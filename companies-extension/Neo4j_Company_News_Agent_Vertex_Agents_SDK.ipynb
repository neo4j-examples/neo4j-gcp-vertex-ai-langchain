{
  "cells": [
    {
      "cell_type": "markdown",
      "metadata": {
        "id": "WHtLTE3ksNDP"
      },
      "source": [
        "# Vertex AI Agent SDK Example - Company News Agent Application\n",
        "\n",
        "## Overview\n",
        "\n",
        "Vertex AI Agent SDK is a platform for creating and managing GenAI applications with Agents, that can use function and extension based tools to connect large language models to external systems via APIs.\n",
        "\n",
        "These external systems can provide LLMs with real-time data and perform data processing actions on their behalf. You can use pre-built (e.g. code-interpreter) or your own extensions in Vertex AI Agents SDK.\n",
        "\n",
        "<!-- Learn more about [Vertex AI Extensions](https://cloud.google.com/vertex-ai/generative-ai/docs/extensions/overview).-->\n",
        "\n",
        "\n",
        "### Objective\n",
        "\n",
        "In this example, you learn how to create an extension service backend on Cloud Run, register the extension with Vertex AI Agent SDK, and then use the Agent Application in a user session.\n",
        "\n",
        "More details can be found in the project's [GitHub repository](https://github.com/neo4j-examples/neo4j-gcp-vertex-ai-langchain/tree/main/companies-extension).\n",
        "\n",
        "You can answer of complex questions that combine LLM language skills with the data from the extension, allowing for multiple chained retrievals driven by the LLM.\n",
        "\n",
        "The steps performed include:\n",
        "\n",
        "- The Neo4j Company News database\n",
        "- Creating the extension service running on Cloud Run\n",
        "- Creating an OpenAPI 3.1 YAML file for the Cloud Run service\n",
        "- Creating an Vertex AI Agent SDK application\n",
        "- Registering the service as an extension for an agent with Vertex AI Agent SDK\n",
        "- Using a session to respond to user complex user queries which will use a number of agent calls behind the scenes\n",
        "\n",
        "\n",
        "## How it works\n",
        "\n",
        "This notebook provides an external Neo4j Extension to be used with the Agent of our application.\n",
        "\n",
        "The extension makes a number of REST endpoints available for the agent to query a company news graph with articles about companies their industries and executives involved with the companies.\n",
        "\n",
        "It is deployed as a Flask app in a Docker container with Google Cloud run.\n",
        "\n",
        "This guide assumes that you are somewhat familiar with\n",
        "\n",
        "* [Vertex AI Agent SDK](https://cloud.google.com/vertex-ai/generative-ai/docs/agent-api/overview)\n",
        "* [LangChain](https://python.langchain.com/docs/get_started/introduction)\n",
        "* [OpenAPI specification](https://swagger.io/specification/)\n",
        "* [Cloud Run](https://cloud.google.com/run/docs)\n",
        "\n",
        "**_NOTE_**:\n",
        "\n",
        "Your account needs to have permissions and API enabled for Vertex AI and Cloud Run.\n",
        "\n",
        "The notebook has been tested in the following environment: Python version = 3.11\n",
        "\n",
        "## Before you begin\n",
        "\n",
        "### Set up your Google Cloud project\n",
        "\n",
        "**The following steps are required, regardless of your notebook environment.**\n",
        "\n",
        "1. [Select or create a Google Cloud project](https://console.cloud.google.com/cloud-resource-manager). When you first create an account, you get a $300 free credit towards your compute/storage costs.\n",
        "1. [Make sure that billing is enabled for your project](https://cloud.google.com/billing/docs/how-to/modify-project).\n",
        "1. [Enable the Vertex AI API](https://console.cloud.google.com/flows/enableapi?apiid=aiplatform.googleapis.com).\n",
        "1. If you are running this notebook locally, you need to install the [Cloud SDK](https://cloud.google.com/sdk).\n",
        "1. Your project must also be allowlisted for the Vertex AI Extension Private Preview.\n",
        "1. This notebook requires that you have the following permissions for your GCP project:\n",
        "- `roles/aiplatform.user`\n",
        "\n",
        "### Set your project ID\n",
        "\n",
        "**If you don't know your project ID**, try the following:\n",
        "* Run `gcloud config list`.\n",
        "* Run `gcloud projects list`.\n",
        "* See the support page: [Locate the project ID](https://support.google.com/googleapi/answer/7014113)"
      ]
    },
    {
      "cell_type": "markdown",
      "metadata": {
        "id": "S87zlm_nsEZB"
      },
      "source": [
        "##Authenticate"
      ]
    },
    {
      "cell_type": "code",
      "execution_count": 1,
      "metadata": {
        "id": "JZGytImrziVA"
      },
      "outputs": [],
      "source": [
        "from google.colab import auth\n",
        "auth.authenticate_user()"
      ]
    },
    {
      "cell_type": "markdown",
      "source": [
        "##Imports and Initialization\n",
        "\n",
        "\n",
        "Make sure to initialize aiplatform with your projectID, location, and api endpoint. You need to initialize aiplatform before performing any of the other imports."
      ],
      "metadata": {
        "id": "RIpFHlASH5lh"
      }
    },
    {
      "cell_type": "code",
      "source": [
        "PROJECT_ID = \"vertex-ai-neo4j-extension\" # @param {type:\"string\"}\n",
        "LOCATION = \"us-central1\"  # @param {type: \"string\"}\n",
        "API_ENDPOINT = 'us-central1-aiplatform.googleapis.com'\n",
        "\n",
        "from google.cloud import aiplatform\n",
        "\n",
        "aiplatform.init(project=PROJECT_ID, location=LOCATION, api_endpoint=API_ENDPOINT)"
      ],
      "metadata": {
        "id": "h2IoRD8dH05O"
      },
      "execution_count": 1,
      "outputs": []
    },
    {
      "cell_type": "code",
      "source": [
        "!gcloud config set project $PROJECT_ID"
      ],
      "metadata": {
        "id": "IIpkwBy0Hxtm",
        "colab": {
          "base_uri": "https://localhost:8080/"
        },
        "outputId": "8cb850ba-1a3a-4994-e8ec-72687bf38ac5"
      },
      "execution_count": 3,
      "outputs": [
        {
          "output_type": "stream",
          "name": "stdout",
          "text": [
            "Updated property [core/project].\n"
          ]
        }
      ]
    },
    {
      "cell_type": "markdown",
      "metadata": {
        "id": "JgXyHQQfsGnc"
      },
      "source": [
        "##Download most recent copy of Vertex Agents SDK"
      ]
    },
    {
      "cell_type": "code",
      "execution_count": 4,
      "metadata": {
        "colab": {
          "base_uri": "https://localhost:8080/"
        },
        "id": "AOJu5GA6zjEJ",
        "outputId": "97316213-f900-46b4-9bda-36a8c39a2582"
      },
      "outputs": [
        {
          "output_type": "stream",
          "name": "stdout",
          "text": [
            "Copying gs://vertex_agents_private_releases/vertex_agents/google_cloud_aiplatform-1.61.dev20240814+vertex.agents-py2.py3-none-any.whl...\n",
            "/ [1 files][  5.3 MiB/  5.3 MiB]                                                \n",
            "Operation completed over 1 objects/5.3 MiB.                                      \n",
            "\u001b[2K     \u001b[90m━━━━━━━━━━━━━━━━━━━━━━━━━━━━━━━━━━━━━━━━\u001b[0m \u001b[32m60.9/60.9 kB\u001b[0m \u001b[31m4.1 MB/s\u001b[0m eta \u001b[36m0:00:00\u001b[0m\n",
            "\u001b[2K   \u001b[90m━━━━━━━━━━━━━━━━━━━━━━━━━━━━━━━━━━━━━━━━\u001b[0m \u001b[32m142.2/142.2 kB\u001b[0m \u001b[31m10.3 MB/s\u001b[0m eta \u001b[36m0:00:00\u001b[0m\n",
            "\u001b[2K   \u001b[90m━━━━━━━━━━━━━━━━━━━━━━━━━━━━━━━━━━━━━━━━\u001b[0m \u001b[32m209.0/209.0 kB\u001b[0m \u001b[31m16.3 MB/s\u001b[0m eta \u001b[36m0:00:00\u001b[0m\n",
            "\u001b[2K   \u001b[90m━━━━━━━━━━━━━━━━━━━━━━━━━━━━━━━━━━━━━━━━\u001b[0m \u001b[32m239.1/239.1 kB\u001b[0m \u001b[31m17.0 MB/s\u001b[0m eta \u001b[36m0:00:00\u001b[0m\n",
            "\u001b[2K   \u001b[90m━━━━━━━━━━━━━━━━━━━━━━━━━━━━━━━━━━━━━━━━\u001b[0m \u001b[32m130.5/130.5 kB\u001b[0m \u001b[31m10.3 MB/s\u001b[0m eta \u001b[36m0:00:00\u001b[0m\n",
            "\u001b[2K   \u001b[90m━━━━━━━━━━━━━━━━━━━━━━━━━━━━━━━━━━━━━━━━\u001b[0m \u001b[32m294.6/294.6 kB\u001b[0m \u001b[31m19.5 MB/s\u001b[0m eta \u001b[36m0:00:00\u001b[0m\n",
            "\u001b[2K   \u001b[90m━━━━━━━━━━━━━━━━━━━━━━━━━━━━━━━━━━━━━━━━\u001b[0m \u001b[32m5.8/5.8 MB\u001b[0m \u001b[31m63.1 MB/s\u001b[0m eta \u001b[36m0:00:00\u001b[0m\n",
            "\u001b[2K   \u001b[90m━━━━━━━━━━━━━━━━━━━━━━━━━━━━━━━━━━━━━━━━\u001b[0m \u001b[32m16.3/16.3 MB\u001b[0m \u001b[31m56.1 MB/s\u001b[0m eta \u001b[36m0:00:00\u001b[0m\n",
            "\u001b[2K   \u001b[90m━━━━━━━━━━━━━━━━━━━━━━━━━━━━━━━━━━━━━━━━\u001b[0m \u001b[32m229.9/229.9 kB\u001b[0m \u001b[31m16.2 MB/s\u001b[0m eta \u001b[36m0:00:00\u001b[0m\n",
            "\u001b[?25h"
          ]
        },
        {
          "output_type": "execute_result",
          "data": {
            "text/plain": [
              "{'status': 'ok', 'restart': True}"
            ]
          },
          "metadata": {},
          "execution_count": 4
        }
      ],
      "source": [
        "!gsutil cp gs://vertex_agents_private_releases/vertex_agents/google_cloud_aiplatform-1.61.dev20240814+vertex.agents-py2.py3-none-any.whl .\n",
        "!pip install --quiet --upgrade --force-reinstall -q google_cloud_aiplatform-1.61.dev20240814+vertex.agents-py2.py3-none-any.whl --no-warn-conflicts\n",
        "!pip install --quiet -U \"pandas==2.2.2\"\n",
        "!pip install --quiet -U 'numpy<2'\n",
        "\n",
        "# Restart the kernel runtime to load the private preview SDK\n",
        "import IPython\n",
        "app = IPython.Application.instance()\n",
        "app.kernel.do_shutdown(True)"
      ]
    },
    {
      "cell_type": "markdown",
      "source": [
        "## Company News Graph\n",
        "\n",
        "Our example datasets will be a small subset (250k entities) of [diffbot's](https://diffbot.com/) global Knowledge Graph (50bn entities).\n",
        "\n",
        "It contains organizations, people in their leadership, locations and industries.\n",
        "\n",
        "Additionally articles mentioning these companies, which are chunked and indexed as vector embeddings.\n",
        "\n",
        "![](https://camo.githubusercontent.com/2ebaff2ceb74cd8af8f7ef8a5a4791ef92ea8f631c0fc41d828eb8ae9c7bf553/68747470733a2f2f692e696d6775722e636f6d2f6c574a5a5345652e706e67)\n",
        "\n",
        "You can access and query a read only version of that graph with the following credentials:\n",
        "\n",
        "* URL: https://demo.neo4jlabs.com:7473\n",
        "* Username: companies\n",
        "* Password: companies\n",
        "* Database: companies"
      ],
      "metadata": {
        "id": "22zivrM25iUj"
      }
    },
    {
      "cell_type": "markdown",
      "source": [
        "## Neo4j Company News Extension\n",
        "\n",
        "This is the Flask application, connecting to Neo4j and hosting 6 different endpoints to retrieve information about companies, article, people, industries etc.\n",
        "\n",
        "### Endpoints\n",
        "\n",
        "Each endpoint takes parameters via query string and returns it's response as JSON\n",
        "\n",
        "* `/industries` - List of Industry names\n",
        "* `/companies` - List of Companies (id, name, summary) by fulltext `search`\n",
        "* `/companies_in_industry` - Companies (id, name, summary) in a given industry by `industry`\n",
        "* `/articles_in_month` - List of Articles (id, author, title, date, sentiment) in a month timeframe from the given `date` (yyyy-mm-dd)\n",
        "* `/article` - Single Article details (id, author, title, date, sentiment, site, summary, content) by article `id`\n",
        "*  `/companies_in_articles` - Companies (id, name, summary) mentioned in articles by list of article `ids`\n",
        "* `/people_at_company` - People (name, role) associated with a company by company `id`\n",
        "\n",
        "It uses a publicly hosted dataset with read-only credentials for the \"companies\" graph."
      ],
      "metadata": {
        "id": "Op7W7BR7vkAW"
      }
    },
    {
      "cell_type": "code",
      "source": [
        "# Connection Details\n",
        "\n",
        "NEO4J_URI='neo4j+s://demo.neo4jlabs.com'\n",
        "NEO4J_USERNAME='companies'\n",
        "NEO4J_PASSWORD='companies'\n",
        "NEO4J_DATABASE='companies'"
      ],
      "metadata": {
        "id": "Tltp1zHcvisc"
      },
      "execution_count": 2,
      "outputs": []
    },
    {
      "cell_type": "code",
      "source": [
        "import os\n",
        "if not os.path.exists(\"extension\"):\n",
        "    os.mkdir(\"extension\")"
      ],
      "metadata": {
        "id": "J30Y_Ii0xR_J"
      },
      "execution_count": 3,
      "outputs": []
    },
    {
      "cell_type": "markdown",
      "source": [
        "### Flask Application\n",
        "\n",
        "The code for the application (`extension.py`), `Dockerfile` and `requirements.txt`is also also available on [GitHub](https://github.com/neo4j-examples/neo4j-gcp-vertex-ai-langchain/tree/main/companies-extension)."
      ],
      "metadata": {
        "id": "mdhwvG8qxa3R"
      }
    },
    {
      "cell_type": "code",
      "source": [
        "%%writefile extension/extension.py\n",
        "import os\n",
        "from flask import Flask, jsonify, request\n",
        "from neo4j import GraphDatabase\n",
        "\n",
        "app = Flask(__name__)\n",
        "\n",
        "URI = os.getenv('NEO4J_URI', 'neo4j+s://demo.neo4jlabs.com')\n",
        "AUTH = (os.getenv('NEO4J_USERNAME','companies'),os.getenv('NEO4J_PASSWORD','companies'))\n",
        "\n",
        "driver = GraphDatabase.driver(URI, auth = AUTH)\n",
        "\n",
        "@app.route(\"/industries\", methods=[\"GET\"])\n",
        "def industries():\n",
        "    \"\"\"\n",
        "    List of Industry names\n",
        "    \"\"\"\n",
        "\n",
        "    query = \"\"\"\n",
        "    MATCH (i:IndustryCategory) RETURN i.name as industry\n",
        "    \"\"\"\n",
        "    records, _, _ = driver.execute_query(query, _database=\"companies\")\n",
        "    results = [r['industry'] for r in records]\n",
        "    return jsonify({ \"output\": results })\n",
        "\n",
        "@app.route(\"/companies\", methods=[\"GET\"])\n",
        "def companies():\n",
        "    \"\"\"\n",
        "    List of Companies (id, name, summary) by fulltext search\n",
        "    \"\"\"\n",
        "\n",
        "    query = \"\"\"\n",
        "    CALL db.index.fulltext.queryNodes('entity', $search, {limit: 25})\n",
        "    YIELD node as c, score WHERE c:Organization\n",
        "    AND not exists { (c)<-[:HAS_SUBSIDARY]-() }\n",
        "    RETURN c.id as id, c.name as name, c.summary as summary\n",
        "    \"\"\"\n",
        "    args = request.args\n",
        "    search = args.get(\"search\")\n",
        "    records, _, _ = driver.execute_query(query, search=search, _database=\"companies\")\n",
        "    results = [{\"Company\": r['name'], \"Id\": r['id'], \"Summary\":r['summary']} for r in records]\n",
        "    return jsonify({ \"output\": results })\n",
        "\n",
        "@app.route(\"/companies_in_industry\", methods=[\"GET\"])\n",
        "def companies_in_industry():\n",
        "    \"\"\"\n",
        "    Companies (id, name, summary) in a given industry by name\n",
        "    \"\"\"\n",
        "    query = \"\"\"\n",
        "    MATCH (:IndustryCategory {name:$industry})<-[:HAS_CATEGORY]-(c)\n",
        "    WHERE not exists { (c)<-[:HAS_SUBSIDARY]-() }\n",
        "    RETURN c.id as id, c.name as name, c.summary as summary\n",
        "    \"\"\"\n",
        "    args = request.args\n",
        "    industry = args.get(\"industry\")\n",
        "    records, _, _ = driver.execute_query(query, industry=industry, _database=\"companies\")\n",
        "    results = [{\"Company\": r['name'], \"Id\": r['id'], \"Summary\":r['summary']} for r in records]\n",
        "    return jsonify({ \"output\": results })\n",
        "\n",
        "@app.route(\"/articles_in_month\", methods=[\"GET\"])\n",
        "def articles_in_month():\n",
        "    \"\"\"\n",
        "    List of Articles (id, author, title, date, sentiment) in a month timeframe from the given date\n",
        "    \"\"\"\n",
        "    query = \"\"\"\n",
        "    match (a:Article)\n",
        "    where date($date) <= date(a.date)  < date($date) + duration('P1M')\n",
        "    return a.id as id, a.author as author, a.title as title, toString(a.date) as date, a.sentiment as sentiment\n",
        "    limit 25\n",
        "    \"\"\"\n",
        "    args = request.args\n",
        "    date = args.get(\"date\")\n",
        "\n",
        "    records, _, _ = driver.execute_query(query, date=date, _database=\"companies\")\n",
        "    results = [{\"Article\": r['title'], \"Id\": r['id'], \"Date\": r['date'], \"Sentiment\":r['sentiment'], \"Author\":r['author']} for r in records]\n",
        "    return jsonify({ \"output\": results })\n",
        "\n",
        "@app.route(\"/article\", methods=[\"GET\"])\n",
        "def article():\n",
        "    \"\"\"\n",
        "    Single Article details (id, author, title, date, sentiment, site, summary, content) by article id\n",
        "    \"\"\"\n",
        "\n",
        "    query = \"\"\"\n",
        "    match (a:Article)-[:HAS_CHUNK]->(c:Chunk)\n",
        "    where a.id = $id\n",
        "    with a, c order by id(c) asc\n",
        "    with a, collect(c.text) as content\n",
        "    return a.id as id, a.author as author, a.title as title, toString(a.date) as date,\n",
        "    a.summary as summary, a.siteName as site, a.sentiment as sentiment, content\n",
        "    \"\"\"\n",
        "    args = request.args\n",
        "    id = args.get(\"id\")\n",
        "\n",
        "    records, _, _ = driver.execute_query(query, id=id, _database=\"companies\")\n",
        "    results = [{\"Article\": r['title'], \"Id\": r['id'], \"Date\": r['date'], \"Sentiment\":r['sentiment'], \"Author\":r['author'],\n",
        "                \"Site\": r['site'], \"Summary\": r['summary'], \"Content\": r['content']} for r in records]\n",
        "    return jsonify({ \"output\": results })\n",
        "\n",
        "@app.route(\"/companies_in_articles\", methods=[\"GET\"])\n",
        "def companies_in_articles():\n",
        "    \"\"\"\n",
        "    Companies (id, name, summary) mentioned in articles by list of article ids\n",
        "    \"\"\"\n",
        "\n",
        "    query = \"\"\"\n",
        "    MATCH (a:Article)-[:MENTIONS]->(c)\n",
        "    WHERE a.id in $ids AND not exists { (c)<-[:HAS_SUBSIDARY]-() }\n",
        "    RETURN c.id as id, c.name as name, c.summary as summary\n",
        "    \"\"\"\n",
        "    args = request.args\n",
        "    ids = args.get(\"ids\").split(\",\")\n",
        "\n",
        "    records, _, _ = driver.execute_query(query, ids=ids, _database=\"companies\")\n",
        "    results = [{\"Company\": r['name'], \"Id\": r['id'], \"Summary\":r['summary']} for r in records]\n",
        "    return jsonify({ \"output\": results })\n",
        "\n",
        "\n",
        "@app.route(\"/people_at_company\", methods=[\"GET\"])\n",
        "def people_at_company():\n",
        "    \"\"\"\n",
        "    People (id, name, summary) associated with a company by company id\n",
        "    \"\"\"\n",
        "\n",
        "    query = \"\"\"\n",
        "    MATCH (c:Organization)-[role]-(p:Person) WHERE c.id = $id\n",
        "    RETURN replace(type(role),\"HAS_\",\"\") as role, p.name as name\n",
        "    \"\"\"\n",
        "    args = request.args\n",
        "    id = args.get(\"id\")\n",
        "\n",
        "    records, _, _ = driver.execute_query(query, id=id, _database=\"companies\")\n",
        "    results = [{\"Person\": r['name'], \"Role\": r['role']} for r in records]\n",
        "    return jsonify({ \"output\": results })\n",
        "\n",
        "if __name__ == \"__main__\":\n",
        "    app.run(debug=True, host=\"0.0.0.0\", port=int(os.environ.get(\"PORT\", 8080)))"
      ],
      "metadata": {
        "id": "xicDHra8xUiR",
        "colab": {
          "base_uri": "https://localhost:8080/"
        },
        "outputId": "181901e0-da18-4d11-9754-e7e8b7cf0837"
      },
      "execution_count": 4,
      "outputs": [
        {
          "output_type": "stream",
          "name": "stdout",
          "text": [
            "Writing extension/extension.py\n"
          ]
        }
      ]
    },
    {
      "cell_type": "code",
      "source": [
        "%%writefile extension/requirements.txt\n",
        "Flask==2.3.3\n",
        "gunicorn==23.0.0\n",
        "neo4j==5.22.0"
      ],
      "metadata": {
        "id": "zntMHqsLxuUs",
        "colab": {
          "base_uri": "https://localhost:8080/"
        },
        "outputId": "30bc4f27-31f1-4512-a73a-3270b01b8589"
      },
      "execution_count": 5,
      "outputs": [
        {
          "output_type": "stream",
          "name": "stdout",
          "text": [
            "Writing extension/requirements.txt\n"
          ]
        }
      ]
    },
    {
      "cell_type": "code",
      "source": [
        "%%writefile extension/Dockerfile\n",
        "\n",
        "FROM python:3.11-slim\n",
        "\n",
        "ENV PYTHONUNBUFFERED=True\n",
        "\n",
        "ENV APP_HOME=/app\n",
        "WORKDIR $APP_HOME\n",
        "COPY . ./\n",
        "\n",
        "RUN pip install --no-cache-dir -r requirements.txt\n",
        "\n",
        "CMD exec gunicorn --bind :$PORT --workers 1 --threads 8 --timeout 0 extension:app"
      ],
      "metadata": {
        "id": "1fgMLfhnxyLJ",
        "colab": {
          "base_uri": "https://localhost:8080/"
        },
        "outputId": "b0874770-cc64-4482-c93b-5072960fd0c3"
      },
      "execution_count": 6,
      "outputs": [
        {
          "output_type": "stream",
          "name": "stdout",
          "text": [
            "Writing extension/Dockerfile\n"
          ]
        }
      ]
    },
    {
      "cell_type": "code",
      "source": [
        "%%writefile extension/.dockerignore\n",
        "Dockerfile\n",
        "README.md\n",
        "*.pyc\n",
        "*.pyo\n",
        "*.pyd\n",
        "__pycache__\n",
        ".pytest_cache"
      ],
      "metadata": {
        "id": "JIfpPl3Zx1d6",
        "colab": {
          "base_uri": "https://localhost:8080/"
        },
        "outputId": "cb14acb2-ad89-4011-85ae-228dadb6b47f"
      },
      "execution_count": 7,
      "outputs": [
        {
          "output_type": "stream",
          "name": "stdout",
          "text": [
            "Writing extension/.dockerignore\n"
          ]
        }
      ]
    },
    {
      "cell_type": "markdown",
      "source": [
        "Next, you deploy the service to Cloud Run. However, you might need to log in once more to deploy."
      ],
      "metadata": {
        "id": "aZ1eSVM1xruT"
      }
    },
    {
      "cell_type": "code",
      "source": [
        "!gcloud auth login"
      ],
      "metadata": {
        "id": "cjJjEdYmx53e"
      },
      "execution_count": null,
      "outputs": []
    },
    {
      "cell_type": "code",
      "source": [
        "!gcloud run deploy extension --region=us-central1 --source extension --no-user-output-enabled"
      ],
      "metadata": {
        "id": "yLpQP0dfx7uF"
      },
      "execution_count": 16,
      "outputs": []
    },
    {
      "cell_type": "markdown",
      "source": [
        "List the most recent Cloud Run service that was deployed, then you'll copy its URL to the next cell:"
      ],
      "metadata": {
        "id": "e77mCGfUyBJh"
      }
    },
    {
      "cell_type": "code",
      "source": [
        "!gcloud run services list | sort -k 3 | head -2"
      ],
      "metadata": {
        "id": "c1OO0cvlyAO6",
        "colab": {
          "base_uri": "https://localhost:8080/"
        },
        "outputId": "1ed5e55b-8447-4e49-8fa8-94151920a3fc"
      },
      "execution_count": 14,
      "outputs": [
        {
          "output_type": "stream",
          "name": "stdout",
          "text": [
            "   SERVICE    REGION       URL                                                 LAST DEPLOYED BY          LAST DEPLOYED AT\n",
            "\u001b[32m✔\u001b[39;0m  extension  us-central1  https://extension-990868019953.us-central1.run.app  michael.hunger@neo4j.com  2024-10-02T07:39:50.100659Z\n"
          ]
        }
      ]
    },
    {
      "cell_type": "markdown",
      "source": [
        "Copy paste the output from the previous command here"
      ],
      "metadata": {
        "id": "7qv62e65yGEy"
      }
    },
    {
      "cell_type": "code",
      "source": [
        "# @title Copy paste the output from the previous command here\n",
        "service_url = \"https://extension-990868019953.us-central1.run.app\"  # @param {type:\"string\"}"
      ],
      "metadata": {
        "id": "2RBL3MRDyHz7"
      },
      "execution_count": 11,
      "outputs": []
    },
    {
      "cell_type": "markdown",
      "source": [
        "### Test the deployed service\n",
        "\n",
        "First, check that your service can accept simple HTTP `GET` requests:"
      ],
      "metadata": {
        "id": "q0FhWCNNylo_"
      }
    },
    {
      "cell_type": "code",
      "source": [
        "import requests\n",
        "\n",
        "url = f'{service_url}/companies_in_industry?industry=Electronic%20Products%20Manufacturers'\n",
        "\n",
        "r = requests.get(url, headers={ 'Accept': 'application/json' })\n",
        "\n",
        "print(f\"Status Code: {r.status_code}, Content: {r.text}\")\n"
      ],
      "metadata": {
        "colab": {
          "base_uri": "https://localhost:8080/"
        },
        "id": "4NIDV6f9yk3S",
        "outputId": "e417df81-a512-470e-f37e-ce5fb2fdcb50"
      },
      "execution_count": 18,
      "outputs": [
        {
          "output_type": "stream",
          "name": "stdout",
          "text": [
            "Status Code: 200, Content: {\"output\":[{\"Company\":\"Altium\",\"Id\":\"EJH622s4BMu2i04Ye7J6fxQ\",\"Summary\":\"Software company\"},{\"Company\":\"Northrop Grumman\",\"Id\":\"EXjyKMX-3MEG_BMYe08uKtg\",\"Summary\":null},{\"Company\":\"Microsemi\",\"Id\":\"EgtXOU4GjMSuesdkX0nz_Qg\",\"Summary\":\"Communications corporation\"},{\"Company\":\"Nice Systems\",\"Id\":\"EsLssnhntPTqbf_OUYWJ5oQ\",\"Summary\":null},{\"Company\":\"Skyworks Solutions\",\"Id\":\"EzY1DUFnTNYang87g0sX-2Q\",\"Summary\":\"American semiconductor manufacturer\"},{\"Company\":\"Murrietta Circuits\",\"Id\":\"Euff3XPIoPkGSqQJSwxk8wg\",\"Summary\":null},{\"Company\":\"Airwolf 3D\",\"Id\":\"E8Hvn4tyBOmGaT1zWRMKlJw\",\"Summary\":null},{\"Company\":\"Xi'an System Sensor Electronics\",\"Id\":\"EUdCZjJ7dOYOVFy9CcmAfvQ\",\"Summary\":\"Manufacturing company based in Long\\u2019an Xian, Guangxi Zhuang Autonomous Region, China and owned by Honeywell\"},{\"Company\":\"Bunker Ramo\",\"Id\":\"EuQUgt5BHPUKqaOG8nrXBcg\",\"Summary\":\"Manufacturing company owned by Honeywell founded in 1964\"},{\"Company\":\"Intermec\",\"Id\":\"Eb7CrOtCJMQ-Mm5VePcKO1g\",\"Summary\":\"American electronics manufacturing company\"},{\"Company\":\"Data Instruments\",\"Id\":\"E8vT4-jd4MyWT4yYE1yDuow\",\"Summary\":\"Manufacturing company based in Marietta, Georgia, United States\"},{\"Company\":\"COM DEV International\",\"Id\":\"EkeecpeL-MjGEnmQVEBEbcQ\",\"Summary\":\"Manufacturing company based in Cambridge, Ontario, Canada and owned by Honeywell\"},{\"Company\":\"Metrologic Instruments\",\"Id\":\"EL5SiB1O6MEW9l5FAl4Wf1g\",\"Summary\":\"Manufacturing company based in Blackwood, New Jersey, United States and owned by Honeywell\"},{\"Company\":\"Silent Witness Enterprises\",\"Id\":\"E-P0tLc1EMt-mlK0tp9dRcA\",\"Summary\":\"Manufacturing company based in Surrey, British Columbia, Canada and owned by Honeywell\"},{\"Company\":\"Novar ED&S\",\"Id\":\"EsFYpzaNFNu-c1vDUKxmf-Q\",\"Summary\":\"Manufacturing company based in Bracknell, United Kingdom and owned by Honeywell\"},{\"Company\":\"Intermec Technologies (S)\",\"Id\":\"EDDBkphAKMWuqcKYIBlMIjQ\",\"Summary\":\"Manufacturing company based in Singapore and owned by Honeywell\"},{\"Company\":\"Novar\",\"Id\":\"EuQqC5oKhN_K5K07xJlZYhA\",\"Summary\":\"Manufacturing company based in Neuss, North Rhine-Westphalia State, Germany and owned by Honeywell\"},{\"Company\":\"EMS Technologies\",\"Id\":\"EDs5ZOPtUMl-xJAs2NlASNA\",\"Summary\":\"United States company\"},{\"Company\":\"Quantenna Communications\",\"Id\":\"ETYEzVA2RMiqa2YeKwvMLUA\",\"Summary\":\"Manufacturing company based in San Jose, California, United States and owned by ON Semiconductor\"},{\"Company\":\"Vislink\",\"Id\":\"EzEPULowuP5KkdXN8AF7ssw\",\"Summary\":null},{\"Company\":\"Tellabs\",\"Id\":\"EfBNmLS8DOqGfsrLEFhbEGQ\",\"Summary\":\"American technology company\"},{\"Company\":\"Elitegroup Computer Systems\",\"Id\":\"EHaTUjwxoOkKJgVWV417JxA\",\"Summary\":null},{\"Company\":\"Motorola\",\"Id\":\"E1VwoGv8bO2-YCynsjKGzhA\",\"Summary\":\"Manufacturing company based in Chicago, Illinois, United States and owned by Lenovo\"},{\"Company\":\"Harmonic\",\"Id\":\"Ew9REAsDdMDGFKIbvdiUy-g\",\"Summary\":null},{\"Company\":\"Uei College\",\"Id\":\"EC_hruzCWOHK6rRaiXRD0Rg\",\"Summary\":null},{\"Company\":\"General Electric\",\"Id\":\"EXlJEjR7VNbWwp6SAnBJwpg\",\"Summary\":\"American multinational conglomerate\"},{\"Company\":\"Ericsson\",\"Id\":\"EJ6iFTvwlOoWXlsMWBA7zFA\",\"Summary\":\"Swedish provider of communications technology and services\"},{\"Company\":\"Fujitsu\",\"Id\":\"E8OWjZ3z8M_Ke18gTcLvdIg\",\"Summary\":\"Software company based in Tokyo Metropolis, Japan and owned by FUJITSU LIMITED\"},{\"Company\":\"General Dynamics Corporation\",\"Id\":\"ESuZZlDcNNT-HfQuaDBax1g\",\"Summary\":\"American defense manufacturing conglomerate\"},{\"Company\":\"Siemens\",\"Id\":\"E5wCQVXdEOOOMHQeWGynLLA\",\"Summary\":\"German multinational conglomerate\"},{\"Company\":\"Google\",\"Id\":\"EUFq-3WlpNsq0pvfUYWXOEA\",\"Summary\":\"American multinational technology company\"},{\"Company\":\"Intel\",\"Id\":\"ExZ5EetfQM1m4UBAm6QAWCQ\",\"Summary\":\"American semiconductor chip manufacturer\"},{\"Company\":\"Honeywell International\",\"Id\":\"EyaWYVSuKNv-zPUrbraQgow\",\"Summary\":\"American multinational conglomerate\"},{\"Company\":\"Amazon\",\"Id\":\"EU2HJUnMcNoWE3nR1cGBcZg\",\"Summary\":\"American multinational technology company\"},{\"Company\":\"Maxlinear\",\"Id\":\"EBlpyDOosNUKNiwqwcZg5Fg\",\"Summary\":\"American hardware company\"},{\"Company\":\"Salesforce\",\"Id\":\"EDmR88Y0jMG2___9EnOb4bw\",\"Summary\":null},{\"Company\":\"Silicon & Software Systems\",\"Id\":\"EiRSyorRtMjmdlCLHmV7LfA\",\"Summary\":null},{\"Company\":\"Sandvine\",\"Id\":\"EEHBk4OluOAajq_KSRQvpAw\",\"Summary\":null},{\"Company\":\"Vicor\",\"Id\":\"EMz6KBpAgORa6Sr1OZCOOow\",\"Summary\":null},{\"Company\":\"Everspin Technologies\",\"Id\":\"EA4j_cRZrOHaYr1nbRBvhvQ\",\"Summary\":null},{\"Company\":\"Vitesse Semiconductor\",\"Id\":\"EccKKwOdIOjGJyTEEaJwUPg\",\"Summary\":\"Fabless American semiconductor company\"},{\"Company\":\"Avnet\",\"Id\":\"E_LqNsff6Nqq2ZBAdpNIiuw\",\"Summary\":\"Manufacturing company based in Phoenix, Arizona, United States and owned by Avnet, Inc.\"},{\"Company\":\"Benchmark Electronics\",\"Id\":\"EGUXbCta3O8i2BNFjIHJJTQ\",\"Summary\":null},{\"Company\":\"Cadence Design Systems\",\"Id\":\"Ehsb6YSGfNXWWjEgCurtrgw\",\"Summary\":\"Manufacturing company based in San Jose, California, United States\"},{\"Company\":\"Timex\",\"Id\":\"EzCI_AyFYNTCfpy_iwW1ugQ\",\"Summary\":null},{\"Company\":\"Lam Research\",\"Id\":\"EcjGb0mNKMomruxm9_hjF3w\",\"Summary\":\"American company\"},{\"Company\":\"Netlist\",\"Id\":\"EWXdiXrSkPH--FtzM9HvD8w\",\"Summary\":\"International SSD manufacturer from Irvine, California\"},{\"Company\":\"Dataram\",\"Id\":\"ElUxzLf8vPGeUY2KdSuOIDg\",\"Summary\":null},{\"Company\":\"Intersil\",\"Id\":\"EKs0czXKDP2SNhgaFHsPEhg\",\"Summary\":\"American company\"},{\"Company\":\"Northeastern Electronics\",\"Id\":\"ETDwNpr22PJ6djmf6H3zOWA\",\"Summary\":null},{\"Company\":\"Vishay Intertechnology\",\"Id\":\"EmjYTsnn9MpW0oXSbLfyP4g\",\"Summary\":\"American semiconductor manufacturer\"},{\"Company\":\"Virtium\",\"Id\":\"EoTYaxVTXOeWQKyXKBUESHQ\",\"Summary\":null},{\"Company\":\"Onsemi\",\"Id\":\"E0_mAGKAkNKGS8FxENiw5DA\",\"Summary\":\"US semiconductors supplier company\"},{\"Company\":\"TTM Technologies\",\"Id\":\"EvMjGqyelOw2lxrZs6K8EZA\",\"Summary\":null},{\"Company\":\"Lenovo\",\"Id\":\"EqoDaLnpmNpihlT754qaU0g\",\"Summary\":\"Chinese multinational technology company established in 1984\"},{\"Company\":\"ASM\",\"Id\":\"EDLcFmu47ORigAcS-22lqAw\",\"Summary\":\"Dutch headquartered multinational corporation\"},{\"Company\":\"Broadcom\",\"Id\":\"EYwNiLZodO3CUXGE3A-18UA\",\"Summary\":\"American semiconductor company\"},{\"Company\":\"LSI\",\"Id\":\"EXRyVX5_IMGCbbM5m5W2r9A\",\"Summary\":\"Semiconductors and software designer\"},{\"Company\":\"Volterra Semiconductor\",\"Id\":\"EpNs7GQIGP4ajm4SssLgxsQ\",\"Summary\":\"American semiconductor company\"},{\"Company\":\"Celestica\",\"Id\":\"EH4ZnfSMBNye_tmPGm9L4Xg\",\"Summary\":\"Company in Hortol\\u00e2ndia, Brazil\"},{\"Company\":\"Sanmina Corporation\",\"Id\":\"EP7SnIidUNqyvMxPJHwJ70A\",\"Summary\":\"American company\"},{\"Company\":\"Intrinsix\",\"Id\":\"ESx9NyyQ-OgmdtzjcwBSDyg\",\"Summary\":null},{\"Company\":\"GLOBALFOUNDRIES\",\"Id\":\"Ej4k3pxRaM-ymudd8_ShuXg\",\"Summary\":\"Multinational semiconductor company\"},{\"Company\":\"HP\",\"Id\":\"EscXEVmyZNuy_1XcwvebfLQ\",\"Summary\":\"American information technology company (1939\\u20132015)\"},{\"Company\":\"Finisar\",\"Id\":\"ECtTAifnXOcunQYjmaKqH7w\",\"Summary\":\"Software company based in Sunnyvale, California, United States and owned by Coherent\"},{\"Company\":\"IBM Singapore\",\"Id\":\"EOIn_yZyWMbm4OuvoWfr5Hw\",\"Summary\":\"Manufacturing company based in Singapore and owned by IBM\"},{\"Company\":\"ROLM\",\"Id\":\"E935DJW2aMf6AZdINjEeozA\",\"Summary\":\"Manufacturing company based in Santa Clara, California, United States\"},{\"Company\":\"Dehomag\",\"Id\":\"E97GgqGu_NAqNO2iD7eNXoA\",\"Summary\":\"Manufacturing company based in Sindelfingen, Baden-W\\u00fcrttemberg State, Germany and owned by IBM\"},{\"Company\":\"Blade Network Technologies\",\"Id\":\"E-ReCBmylOeiwFWJsfBxmAg\",\"Summary\":\"Software company based in Santa Clara, California, United States and owned by IBM\"},{\"Company\":\"IBM Canada\",\"Id\":\"EelPgd6qkNnOf1q70ZOPRWQ\",\"Summary\":\"Software company based in Markham, Ontario, Canada and owned by IBM\"},{\"Company\":\"IBM\",\"Id\":\"EPdsrDmLiMQCskvBLp_dloQ\",\"Summary\":\"American multinational technology and consulting corporation\"},{\"Company\":\"Notify Technology\",\"Id\":\"EN9MiGYCzP72fMrZptV-SEg\",\"Summary\":null},{\"Company\":\"Emulex\",\"Id\":\"Ekl2Wz4f8M3-q-AkeTP21nQ\",\"Summary\":\"Business enterprise\"},{\"Company\":\"Interphase\",\"Id\":\"EUWihFi9IO8KQliR_W9KuAA\",\"Summary\":null},{\"Company\":\"OFS Fitel\",\"Id\":\"ENUmnbNdwPgSyEUN5zaUTPA\",\"Summary\":null},{\"Company\":\"MIPS\",\"Id\":\"E7YFNtzQxODu1TqP0CCB7Jg\",\"Summary\":\"American semiconductor company\"},{\"Company\":\"Trimble\",\"Id\":\"Ex4e7US2cN2yPfsU25GqWmQ\",\"Summary\":\"American technology company\"},{\"Company\":\"Blackberry\",\"Id\":\"EP8Jh3SxpNfq7MvodQ7HD-w\",\"Summary\":\"Enterprise software and the Internet of things company\"},{\"Company\":\"Aquantia\",\"Id\":\"EV7Gqrge3NX-QbaUIcmiiKQ\",\"Summary\":\"Manufacturing company based in San Jose, California, United States and owned by Marvell Technology\"},{\"Company\":\"Tekelec\",\"Id\":\"E_JIsdgjMMSC7TsQFbggDCw\",\"Summary\":\"Manufacturing company based in Morrisville, North Carolina, United States and owned by Oracle\"},{\"Company\":\"Synopsys\",\"Id\":\"EHtBQPEZ0N8iq78azYmcP8g\",\"Summary\":\"American software company\"},{\"Company\":\"Monolithic Power Systems\",\"Id\":\"Ed-IpH_z_MKyxhPMMgG_fxA\",\"Summary\":\"U.S. information technology company\"},{\"Company\":\"National Instruments\",\"Id\":\"ESu13jRL3PLelcdbT7zRrrQ\",\"Summary\":null},{\"Company\":\"Fitbit\",\"Id\":\"EKNENRblgMbWnAeo6F1zTHA\",\"Summary\":\"Company producing activity trackers\"},{\"Company\":\"Aruba Networks\",\"Id\":\"EZMhM9u8tPiey0io-_NBqyg\",\"Summary\":\"Software company based in Sunnyvale, California, United States and owned by Hewlett Packard Enterprise\"},{\"Company\":\"Marvell Technology\",\"Id\":\"EJjYohp5uPzqT8fBY_HU5nw\",\"Summary\":\"Software company based in Santa Clara, California, United States and owned by Marvell Semiconductor\"},{\"Company\":\"Vertiv\",\"Id\":\"ExiLz3-XQPCyfov2DfYsByw\",\"Summary\":null},{\"Company\":\"Advanced Micro Devices\",\"Id\":\"EbFKs23aHO_qdYiWKisqivA\",\"Summary\":\"American multinational semiconductor company\"},{\"Company\":\"Nokia\",\"Id\":\"EKFe5Ff4QNoSzjoRpqND3WA\",\"Summary\":\"Software company based in Espoo, Uusimaa Province, Finland\"},{\"Company\":\"Acacia Communications\",\"Id\":\"EJzT-xZhSO8Otu6HE9TJZ-Q\",\"Summary\":null},{\"Company\":\"NEC\",\"Id\":\"Ee_t8yaJLPRyLwAujYg2R9w\",\"Summary\":\"Company in Chaowai, China\"},{\"Company\":\"Hexagon\",\"Id\":\"EujuT8LvQM2W1Zxj8aI8btQ\",\"Summary\":\"Manufacturing company based in Stockholm, Stockholm County, Sweden\"},{\"Company\":\"Applied Optoelectronics\",\"Id\":\"EP5ii9_WBPoeNuoLQWlQxyg\",\"Summary\":\"Company in Sugar Land, United States\"},{\"Company\":\"Solectron\",\"Id\":\"Ebdpccrx1NC6xdX0aLpIigQ\",\"Summary\":\"Electronics manufacturing company\"},{\"Company\":\"Goertek\",\"Id\":\"EqIUBlDaXOZWA84rTo9f8mA\",\"Summary\":\"Business enterprise\"},{\"Company\":\"Palm\",\"Id\":\"E2D6JRFlvPa2_humMAJr8Aw\",\"Summary\":\"1992\\u20132010 American electronics company\"},{\"Company\":\"Primeview USA\",\"Id\":\"EeuglEMP8PqS8X6oQ61a16A\",\"Summary\":null},{\"Company\":\"ASE Group\",\"Id\":\"ECau7aQh9Of-kyuIElZ5aYw\",\"Summary\":null},{\"Company\":\"Arista Networks\",\"Id\":\"EPZo2TaxCPaOWtRh0iDx3qA\",\"Summary\":\"American technology company\"},{\"Company\":\"Mellanox Technologies\",\"Id\":\"EaME7MGowPISS7Xq6lpbRLw\",\"Summary\":\"Software company based in Sunnyvale, California, United States and owned by NVIDIA\"},{\"Company\":\"Xilinx\",\"Id\":\"EHqraFCl2M8GCqo7021V1HQ\",\"Summary\":\"American company\"},{\"Company\":\"Xerox Holdings Corporation\",\"Id\":\"EWkemApGMOle5XGHjDHlCZA\",\"Summary\":\"American document management corporation\"},{\"Company\":\"Cypress Semiconductor\",\"Id\":\"Eteg_Q8ajPU-AJDJpx_0RNw\",\"Summary\":\"Manufacturing company based in San Jose, California, United States and owned by Infineon Technologies\"},{\"Company\":\"Kopin\",\"Id\":\"EnMzRryzHPjS8hNJZYPkYvQ\",\"Summary\":\"United States electronics manufacturer\"},{\"Company\":\"Dyson\",\"Id\":\"Eo01OVBAuNF-q17F8n7HYvQ\",\"Summary\":null},{\"Company\":\"MicroVision\",\"Id\":\"Eu4ovExu7NZueo5Dpi15S8w\",\"Summary\":null},{\"Company\":\"Apple\",\"Id\":\"EHb0_0NEcMwyY8b083taTTw\",\"Summary\":\"American multinational technology company\"},{\"Company\":\"Schneider Electric\",\"Id\":\"EstLng4IwOFuUySG0ZwaNDw\",\"Summary\":\"France-based multinational corporation\"},{\"Company\":\"Zuken\",\"Id\":\"EkipIOzKSODavMK3pZJCbaA\",\"Summary\":null},{\"Company\":\"Hubbell\",\"Id\":\"Eq7PZ0ti2MQe4OQpcx-GI_Q\",\"Summary\":null},{\"Company\":\"Entrust\",\"Id\":\"EEO87mehGNBusUqH9H4Ee_A\",\"Summary\":null},{\"Company\":\"Micromax\",\"Id\":\"EJ3f5HUyzN22vFAkwZMo1jg\",\"Summary\":\"Indian multinational electronics company\"},{\"Company\":\"MITS\",\"Id\":\"EBcILFFlzPHKNULTkGjdX-Q\",\"Summary\":null},{\"Company\":\"ASUS\",\"Id\":\"EqmV9ewOzNPmpNlsgy5dGIQ\",\"Summary\":\"Taiwanese computer and electronics company\"},{\"Company\":\"PrimeSense\",\"Id\":\"EZcBMKrQMO_uR-sPAvNJSOg\",\"Summary\":\"Israeli 3D sensing company\"},{\"Company\":\"ATI Technologies\",\"Id\":\"EEIS-5i5cP5G89WI5rl4-3w\",\"Summary\":\"Canadian technology corporation\"},{\"Company\":\"Polar Electro\",\"Id\":\"EdMVUSs3MN4u84q-7-iV0_Q\",\"Summary\":null},{\"Company\":\"Xirrus\",\"Id\":\"Ecv54azQtNN6IZN0Z4LVX4Q\",\"Summary\":null},{\"Company\":\"MultiLane\",\"Id\":\"EciGHhKpRPa-mNCrCyHMLrA\",\"Summary\":null},{\"Company\":\"SkyWater Technology\",\"Id\":\"EApijRH6NOmyxghXysVlzGA\",\"Summary\":null},{\"Company\":\"Pinnacle\",\"Id\":\"Ex1AUO1-jMaOnUXPxSw2_pQ\",\"Summary\":null},{\"Company\":\"Top Image Systems\",\"Id\":\"ENoezD_cyNlG8O85nJmWS9w\",\"Summary\":\"Manufacturing company based in Plano, Texas, United States\"},{\"Company\":\"Konica Minolta\",\"Id\":\"E5G5Hp-UYMee0nPhzbIcwcQ\",\"Summary\":null},{\"Company\":\"D-Wave Systems\",\"Id\":\"EetgyQe_gMhOahLxtI7PfDA\",\"Summary\":\"Canadian Quantum Computing Company\"},{\"Company\":\"Energizer Holdings\",\"Id\":\"Ew551VvASOES534T4KKWxpg\",\"Summary\":null},{\"Company\":\"Ecessa\",\"Id\":\"Em1LCjt2UN-6uWQrFiiDDfQ\",\"Summary\":null},{\"Company\":\"Alienware\",\"Id\":\"EbrsEZWxFPaquEb8nAuTsAw\",\"Summary\":\"Manufacturing company based in Miami, Florida, United States and owned by Dell\"},{\"Company\":\"Microsoft Corporation\",\"Id\":\"EIsFKrN_ZNLSWsvxdQfWutQ\",\"Summary\":\"American multinational technology corporation\"},{\"Company\":\"Perceptive Pixel\",\"Id\":\"ESQIfz6TnNRiJqlSExTMngw\",\"Summary\":\"Division of Microsoft\"},{\"Company\":\"Danger\",\"Id\":\"E_Cj8Ww-DP8K26zEmoOn9Fw\",\"Summary\":\"Mobile computing software and hardware company\"},{\"Company\":\"Microsoft Mobile\",\"Id\":\"EELwVZkWROhaxzunGOX4BHw\",\"Summary\":\"Manufacturing company based in Espoo, Uusimaa Province, Finland and owned by Microsoft\"},{\"Company\":\"Pacific Microsonics\",\"Id\":\"E37ZiexR1Po6Y_ULFx6TyCg\",\"Summary\":\"Manufacturing company based in Union City, California, United States\"},{\"Company\":\"Nextbase\",\"Id\":\"EU5x7XWUrNpyHHOnYgNB0XQ\",\"Summary\":\"Dash cam manufacturing company\"},{\"Company\":\"Canesta\",\"Id\":\"Et5TNyfOtM9aLTDW22JdHYw\",\"Summary\":\"Manufacturing company based in Sunnyvale, California, United States and owned by Microsoft\"},{\"Company\":\"N-Trig\",\"Id\":\"EPEUXpw6vOEeAqOtTawhJsA\",\"Summary\":\"Manufacturing company based in Austin, Texas, United States\"},{\"Company\":\"Microsoft Deutschland\",\"Id\":\"EecjCMl2gP3u9wa3XPgMwOg\",\"Summary\":\"Software company based in Unterschlei\\u00dfheim, Free State of Bavaria, Germany and owned by Microsoft\"},{\"Company\":\"Delta Electronics\",\"Id\":\"E0OxHCEEzOxqjy3rG9lbvzg\",\"Summary\":null},{\"Company\":\"Foxconn\",\"Id\":\"EsvBPIZGoO6-8js7AkOH1rA\",\"Summary\":\"Manufacturing company based in \\u53f0\\u5317, Taipei City Special Municipality, Taiwan\"},{\"Company\":\"Haivision\",\"Id\":\"EEbmWcRbKNgOWoY-FhdcZlg\",\"Summary\":null},{\"Company\":\"Markforged\",\"Id\":\"EoM-1J3HRMxaJB1TsbiFUwA\",\"Summary\":null},{\"Company\":\"Phison\",\"Id\":\"E0kpTVemFNdyU4jZzrKncew\",\"Summary\":null},{\"Company\":\"Ingram Micro\",\"Id\":\"EbUKCd5rkNPqSfgxA7BjyzQ\",\"Summary\":\"Manufacturing company based in Irvine, California, United States and owned by HNA Technology Co.\"},{\"Company\":\"Inphi\",\"Id\":\"E0FRguXmCNEarQbf2Zo_qRA\",\"Summary\":\"Company in Santa Clara, United States\"},{\"Company\":\"TomTom\",\"Id\":\"ERcpogJAKOZOE4T4slL7E0Q\",\"Summary\":\"Dutch manufacturer of automotive navigation systems\"},{\"Company\":\"CSR\",\"Id\":\"EzE5D49lzOFa3Z8DrV8FQFQ\",\"Summary\":null},{\"Company\":\"Nvidia Corporation\",\"Id\":\"E9nQaOvC9MXaUzXCuN81tFQ\",\"Summary\":\"American multinational technology company\"},{\"Company\":\"Spectralink\",\"Id\":\"EkGY285m-PsOdIhFsTJjmmg\",\"Summary\":null},{\"Company\":\"HTC\",\"Id\":\"EYJ9rDtu2Pm6UMSTkVzj5gw\",\"Summary\":\"Taiwanese electronics company\"},{\"Company\":\"Pimoroni\",\"Id\":\"EwIKCMqbcPxCN1tCQqznm6w\",\"Summary\":null},{\"Company\":\"Emagin\",\"Id\":\"EK9Us-3nkNCOX4Acv9ALntw\",\"Summary\":\"Electronic components manufacturer\"},{\"Company\":\"Xiaomi\",\"Id\":\"E8z_k1TVPPUmpIJVh9Ko0qQ\",\"Summary\":\"Chinese electronics company\"},{\"Company\":\"Silicon Graphics\",\"Id\":\"Em84FEK7SPCi9RoNcCbioUg\",\"Summary\":\"Former American company\"},{\"Company\":\"Flex\",\"Id\":\"E7jRIuFctPcKOkjChPV05lA\",\"Summary\":\"Manufacturing company based in Singapore and owned by FLEX LTD\"},{\"Company\":\"Samsung\",\"Id\":\"EEUocPTqVNCGf3f-wqw6lxQ\",\"Summary\":\"South Korean multinational conglomerate\"},{\"Company\":\"Dell\",\"Id\":\"EZ4piKv4wOhOEwXA-o_tGKw\",\"Summary\":\"American multinational computer technology corporation\"},{\"Company\":\"Micron Technology, Inc.\",\"Id\":\"EUFIcNpIJPYS36slia3TA4Q\",\"Summary\":\"American multinational corporation based in Boise, Idaho\"},{\"Company\":\"Cavium\",\"Id\":\"E1A0X4aXJOIaRh--kd-OuaA\",\"Summary\":\"Fabless semiconductor company based in San Jose, California\"}]}\n",
            "\n"
          ]
        }
      ]
    },
    {
      "cell_type": "markdown",
      "source": [
        "**NOTE:** If this fails with an 403 error, you need to give your service `Cloud Run Invoker` permission to an `allUsers` principal. Select the service in your [Cloud Run](https://console.cloud.google.com/run) and use the \"Permissions\" button."
      ],
      "metadata": {
        "id": "xAMUA0_DMRL0"
      }
    },
    {
      "cell_type": "markdown",
      "source": [
        "### Create an OpenAPI spec\n",
        "\n",
        "Your Vertex Extension requires an OpenAPI 3.1 YAML file that defines routes, URL, HTTP methods, requests, and responses from your \"backend\" service. The following code creates a YAML file that you can also upload to your Cloud Storage bucket.\n",
        "\n",
        "It is important to be very specific in the descriptions of the functions, their parameters and return types. That will the LLM to make informed decision about what to extract from the user requests and history and what to pass to the extension.\n",
        "\n",
        "We chose to use structured responses (not just text) as response types, so that the LLM can make more informed decisions, e.g. also using the key-names and types."
      ],
      "metadata": {
        "id": "L78SM_e0yMgI"
      }
    },
    {
      "cell_type": "code",
      "source": [
        "if not os.path.exists(\"extension-api\"):\n",
        "    os.mkdir(\"extension-api\")\n"
      ],
      "metadata": {
        "id": "7Ak22bCSyK1c"
      },
      "execution_count": 19,
      "outputs": []
    },
    {
      "cell_type": "markdown",
      "source": [
        "### OpenAPI 3.1.0 YAML Spec for the Neo4j Company Service"
      ],
      "metadata": {
        "id": "kaBJdWDryPYV"
      }
    },
    {
      "cell_type": "code",
      "source": [
        "COMPANY_NEWS_YAML =f\"\"\"\n",
        "openapi: \"3.1.0\"\n",
        "info:\n",
        "  version: 1.0.0\n",
        "  title: neo4j_extension\n",
        "  description: Service for company news information, industries, articles, people at the companies and more.\n",
        "servers:\n",
        "  - url: { service_url }\n",
        "paths:\n",
        "  /companies:\n",
        "    get:\n",
        "      operationId: companies\n",
        "      description: List of Companies (id, name, summary) by fulltext search\n",
        "      parameters:\n",
        "        - name: search\n",
        "          in: query\n",
        "          description: Part of a name of a company to search for\n",
        "          required: true\n",
        "          schema:\n",
        "            type: string\n",
        "      responses:\n",
        "        \"200\":\n",
        "          description: Returns List of Companies (id, name, summary) as JSON\n",
        "          content:\n",
        "            application/json:\n",
        "              schema:\n",
        "                type: array\n",
        "                items:\n",
        "                  type: object\n",
        "                  properties:\n",
        "                    id:\n",
        "                      type: string\n",
        "                    name:\n",
        "                      type: string\n",
        "                    summary:\n",
        "                      type: string\n",
        "  /industries:\n",
        "    get:\n",
        "      operationId: industries\n",
        "      description: List of Industry names\n",
        "      responses:\n",
        "        \"200\":\n",
        "          description: Returns List of Industry Names as JSON\n",
        "          content:\n",
        "            application/json:\n",
        "              schema:\n",
        "                type: array\n",
        "                items:\n",
        "                  type: string\n",
        "  /companies_in_industry:\n",
        "    get:\n",
        "      operationId: companies_in_industry\n",
        "      description: List of Companies (id, name, summary) in a certain industry by name\n",
        "      parameters:\n",
        "        - name: industry\n",
        "          in: query\n",
        "          description: Exact industry name from the industries operation\n",
        "          required: true\n",
        "          schema:\n",
        "            type: string\n",
        "      responses:\n",
        "        \"200\":\n",
        "          description: Returns List of Companies (id, name, summary) as JSON\n",
        "          content:\n",
        "            application/json:\n",
        "              schema:\n",
        "                type: array\n",
        "                items:\n",
        "                  type: object\n",
        "                  properties:\n",
        "                    id:\n",
        "                      type: string\n",
        "                    name:\n",
        "                      type: string\n",
        "                    summary:\n",
        "                      type: string\n",
        "  /articles_in_month:\n",
        "    get:\n",
        "      operationId: articles_in_month\n",
        "      description: List of Articles (id, author, title, date, sentiment) in a month timeframe from the given date\n",
        "      parameters:\n",
        "        - name: date\n",
        "          in: query\n",
        "          description: Start date of the month in yyyy-mm-dd format, e.g. 2021-01-01\n",
        "          required: true\n",
        "          schema:\n",
        "            type: string\n",
        "      responses:\n",
        "        \"200\":\n",
        "          description: Returns List of Articles (id, author, title, date, sentiment) as JSON\n",
        "          content:\n",
        "            application/json:\n",
        "              schema:\n",
        "                type: array\n",
        "                items:\n",
        "                  type: object\n",
        "                  properties:\n",
        "                    id:\n",
        "                      type: string\n",
        "                    author:\n",
        "                      type: string\n",
        "                    title:\n",
        "                      type: string\n",
        "                    date:\n",
        "                      type: string\n",
        "                    sentiment:\n",
        "                      type: number\n",
        "  /article:\n",
        "    get:\n",
        "      operationId: article\n",
        "      description: Single Article details (id, author, title, date, sentiment, site, summary, content) by article id\n",
        "      parameters:\n",
        "        - name: id\n",
        "          in: query\n",
        "          description: Single article id\n",
        "          required: true\n",
        "          schema:\n",
        "            type: string\n",
        "      responses:\n",
        "        \"200\":\n",
        "          description: Single Article details (id, author, title, date, sentiment, site, summary, content) as JSON\n",
        "          content:\n",
        "            application/json:\n",
        "              schema:\n",
        "                type: array\n",
        "                items:\n",
        "                  type: object\n",
        "                  properties:\n",
        "                    id:\n",
        "                      type: string\n",
        "                    author:\n",
        "                      type: string\n",
        "                    title:\n",
        "                      type: string\n",
        "                    date:\n",
        "                      type: string\n",
        "                    site:\n",
        "                      type: string\n",
        "                    summary:\n",
        "                      type: string\n",
        "                    content:\n",
        "                      type: string\n",
        "                    sentiment:\n",
        "                      type: number\n",
        "  /companies_in_articles:\n",
        "    get:\n",
        "      operationId: companies_in_articles\n",
        "      description: Companies (id, name, summary) mentioned in articles by list of article ids\n",
        "      parameters:\n",
        "        - name: ids\n",
        "          in: query\n",
        "          description: Comma separated list of article ids\n",
        "          required: true\n",
        "          schema:\n",
        "            type: string\n",
        "      responses:\n",
        "        \"200\":\n",
        "          description: Returns List of Companies (id, name, summary) as JSON\n",
        "          content:\n",
        "            application/json:\n",
        "              schema:\n",
        "                type: array\n",
        "                items:\n",
        "                  type: object\n",
        "                  properties:\n",
        "                    id:\n",
        "                      type: string\n",
        "                    name:\n",
        "                      type: string\n",
        "                    summary:\n",
        "                      type: string\n",
        "  /people_at_company:\n",
        "    get:\n",
        "      operationId: people_at_company\n",
        "      description: People (name, role) associated with a company by company id\n",
        "      parameters:\n",
        "        - name: id\n",
        "          in: query\n",
        "          description: Single company id\n",
        "          required: true\n",
        "          schema:\n",
        "            type: string\n",
        "      responses:\n",
        "        \"200\":\n",
        "          description: People (name, role) associated with a company as JSON\n",
        "          content:\n",
        "            application/json:\n",
        "              schema:\n",
        "                type: array\n",
        "                items:\n",
        "                  type: object\n",
        "                  properties:\n",
        "                    name:\n",
        "                      type: string\n",
        "                    role:\n",
        "                      type: string\n",
        "\"\"\""
      ],
      "metadata": {
        "id": "re0sP3UbyPnM"
      },
      "execution_count": 20,
      "outputs": []
    },
    {
      "cell_type": "code",
      "source": [
        "%store COMPANY_NEWS_YAML >extension-api/extension.yaml"
      ],
      "metadata": {
        "id": "z62G5Lt3yZ0k",
        "colab": {
          "base_uri": "https://localhost:8080/"
        },
        "outputId": "ba666402-1691-4fff-d288-1dcdd22192df"
      },
      "execution_count": 21,
      "outputs": [
        {
          "output_type": "stream",
          "name": "stdout",
          "text": [
            "Writing 'COMPANY_NEWS_YAML' (str) to file 'extension-api/extension.yaml'.\n"
          ]
        }
      ]
    },
    {
      "cell_type": "markdown",
      "source": [
        "### Extension up and running - Next Step Agent Application\n",
        "\n",
        "Now that our API is ready to serve requests, and we have an specification for its functions, we can create our Vertex AI Agent application and register the endpoints as extension tool to be used to retrieve information during a conversation."
      ],
      "metadata": {
        "id": "_3v1BKSO7xHp"
      }
    },
    {
      "cell_type": "markdown",
      "metadata": {
        "id": "wWso7BK7egeY"
      },
      "source": [
        "#Vertex AI Agent Applications"
      ]
    },
    {
      "cell_type": "markdown",
      "metadata": {
        "id": "fXbIk49Osyjt"
      },
      "source": [
        "##Create Vertex AI Agent App\n",
        "\n",
        "There are two options for creating an app.\n",
        "\n",
        "\n",
        "1.   use the `App.create` function, which will create a new app for you\n",
        "2.   initialize a Vertex Agents `App` object with the resource name of a previously created App\n",
        "\n",
        "\n",
        "Here we create our new **Company News** GenAI application to manage our agents and serve as entry point for our user sessions.\n",
        "\n"
      ]
    },
    {
      "cell_type": "code",
      "source": [
        "from google.cloud.aiplatform.private_preview.vertex_agents.app import App, Session\n",
        "from google.cloud.aiplatform.private_preview.vertex_agents.agent import Agent\n",
        "from vertexai.preview.extensions import Extension"
      ],
      "metadata": {
        "id": "L-zSNR1vxFBk"
      },
      "execution_count": 22,
      "outputs": []
    },
    {
      "cell_type": "code",
      "execution_count": 30,
      "metadata": {
        "id": "YclyIwrvUNZU"
      },
      "outputs": [],
      "source": [
        "app = App.create(display_name='Company News App',\n",
        "                 description='An application to inform people about company news for specific industries and people working in those companies')\n",
        "\n",
        "# To load an existing app\n",
        "# app = App(\"projects/<project_id>/locations/<location_id>/apps/<app_id>\")"
      ]
    },
    {
      "cell_type": "markdown",
      "metadata": {
        "id": "p11Jp01iebVf"
      },
      "source": [
        "##List Apps\n",
        "\n",
        "You can list all the apps in a project, which will return a list of operational Apps.\n",
        "\n",
        "Alternatively, you can get a user-friendly mapping of App display names and resource names."
      ]
    },
    {
      "cell_type": "code",
      "execution_count": null,
      "metadata": {
        "id": "89YAJsR3eaz1"
      },
      "outputs": [],
      "source": [
        "all_apps = App.list_apps()\n",
        "\n",
        "for a in all_apps:\n",
        "  print(a.display_name, a.description, a.app_name)"
      ]
    },
    {
      "cell_type": "markdown",
      "metadata": {
        "id": "owNyuuOBNycy"
      },
      "source": [
        "# Agent Tools\n",
        "\n",
        "Our application can be augmented with two types of tools:\n",
        "\n",
        "1. *Function call tools*, that provide a set of function signatures and can be selected and provided with parameters by the LLM but we need to take care of the execution ourselves, and provide the responses back to the session.\n",
        "\n",
        "2. *Extension tools* that use already deployed API endpoints like the one we just created. Those are automatically called by the Agent as needed and responses integrated in multi-step reasoning processes and the session history/memory.\n",
        "\n",
        "You can read more in the docs about [Function Call Tools](https://cloud.google.com/vertex-ai/generative-ai/docs/agent-api/create-agent#function_tool).\n",
        "\n",
        "But here we're using the [Extension tools](https://cloud.google.com/vertex-ai/generative-ai/docs/agent-api/create-agent#extension_tool) as shown below."
      ]
    },
    {
      "cell_type": "markdown",
      "metadata": {
        "id": "44ikqwKQpEms"
      },
      "source": [
        "###Extension Tools\n",
        "\n",
        "You can integrate both first party and third party (like our) Extension tools into your agent.\n",
        "\n",
        "To get a reference to a first party (Google) extension, you can use the `Extensions.from_hub(...)` method, for instance a code-interpreter: `Extension.from_hub(\"code_interpreter\")`\n",
        "\n",
        "More details can be found in https://cloud.google.com/vertex-ai/generative-ai/docs/extensions/create-extension.\n"
      ]
    },
    {
      "cell_type": "markdown",
      "metadata": {
        "id": "7WfUoOM_p-YT"
      },
      "source": [
        "###Custom Extension Tools\n",
        "\n",
        "To create a custom extension, you will need to specify the display name, description, and manifest of your extension.\n",
        "\n",
        "You can specify the Open API spec in YAML string format, and set the `open_api_yaml`, or you can upload the YAML file to a Google Cloud Storage bucket, and reference it in `open_api_gcs_uri`.\n",
        "\n",
        "We have already done that, and the specifiction is stored in the `COMPANY_NEWS_YAML` variable."
      ]
    },
    {
      "cell_type": "markdown",
      "source": [
        "### Extension Tooling\n",
        "\n",
        "The `Extensions` have a few utility methods, like listing and deleting running extensions, as they are additive, i.e. you have to clean up previously registered extensions."
      ],
      "metadata": {
        "id": "W6sISCm-j325"
      }
    },
    {
      "cell_type": "code",
      "source": [
        "Extension.list()"
      ],
      "metadata": {
        "id": "_I4c5paP0YJQ"
      },
      "execution_count": null,
      "outputs": []
    },
    {
      "cell_type": "code",
      "source": [
        "for e in Extension.list():\n",
        "  e.delete()"
      ],
      "metadata": {
        "id": "IPOVhj_n0dXO"
      },
      "execution_count": null,
      "outputs": []
    },
    {
      "cell_type": "markdown",
      "source": [
        "### Create Extension\n",
        "\n",
        "Now we can create our extension with a\n",
        "\n",
        "* display name\n",
        "* description\n",
        "* manifest with name, description,\n",
        " * openapi-spec YAML\n",
        " * auth config (we don't need auth for our read-only datasource)\n",
        "\n",
        " For more information on Authentication methods for an Extension see the [documentation](https://cloud.google.com/vertex-ai/generative-ai/docs/extensions/create-extension#specify-authentication)."
      ],
      "metadata": {
        "id": "LvLoPPZyppPO"
      }
    },
    {
      "cell_type": "code",
      "execution_count": 27,
      "metadata": {
        "colab": {
          "base_uri": "https://localhost:8080/"
        },
        "id": "cTeAPGs2qL4G",
        "outputId": "40512421-838f-4919-cef8-20fbbf85e3c5"
      },
      "outputs": [
        {
          "output_type": "stream",
          "name": "stderr",
          "text": [
            "INFO:vertexai.extensions._extensions:Creating Extension\n",
            "INFO:vertexai.extensions._extensions:Create Extension backing LRO: projects/990868019953/locations/us-central1/extensions/3661655195470790656/operations/2420060998661570560\n",
            "INFO:vertexai.extensions._extensions:Extension created. Resource name: projects/990868019953/locations/us-central1/extensions/3661655195470790656\n",
            "INFO:vertexai.extensions._extensions:To use this Extension in another session:\n",
            "INFO:vertexai.extensions._extensions:extension = vertexai.preview.extensions.Extension('projects/990868019953/locations/us-central1/extensions/3661655195470790656')\n"
          ]
        }
      ],
      "source": [
        "company_news_extension = Extension.create(\n",
        "    display_name = \"Company News\",\n",
        "    description = \"Service for company news information, industries, articles, people at the companies and more.\",\n",
        "    manifest = {\n",
        "        \"name\": \"company_news\",\n",
        "        \"description\": \"Company News Extension\",\n",
        "        \"api_spec\": {\n",
        "            \"open_api_yaml\": COMPANY_NEWS_YAML,\n",
        "        },\n",
        "        \"auth_config\": {\n",
        "            \"auth_type\": \"NO_AUTH\",\n",
        "        },\n",
        "    },\n",
        ")"
      ]
    },
    {
      "cell_type": "markdown",
      "metadata": {
        "id": "T03epuLxtI8_"
      },
      "source": [
        "## Agents\n",
        "\n",
        "Agents exist under an App. Agents can perform small, specific tasks utilizing Vertex Extensions and function calling. Agents require a display name, and a set of instructions.\n",
        "\n",
        "When creating an agent, you must specify the following:\n",
        "\n",
        "\n",
        "1.   Display Name\n",
        "2.   Instructions - the detailed instructions the Agent should follow. This is where you instruct your agent when to call your functions / extensions and with what parameters.\n",
        "\n",
        "You also have the option to specify the extensions and functions you will be using. Please note that if you reference an extension or function in the instructions, you ***must*** include an extension/function with the same display name in the extensions/functions lists."
      ]
    },
    {
      "cell_type": "markdown",
      "metadata": {
        "id": "EiTxHE26NE7j"
      },
      "source": [
        "##Create Agent\n",
        "You can create an agent for your app by using the add_agent method. When creating an agent, you must specify all the required fields discussed above.\n",
        "\n"
      ]
    },
    {
      "cell_type": "code",
      "execution_count": 31,
      "metadata": {
        "id": "4D8AXpW9bllY"
      },
      "outputs": [],
      "source": [
        "DISPLAY_NAME = \"Company News Agent\"\n",
        "INSTRUCTIONS = \"You are an expert in company information and news. You have access to sources like articles, companies and the people working there to answer user questions.\"\n",
        "\n",
        "created_agent = app.add_agent(display_name=DISPLAY_NAME,\n",
        "                              instructions=INSTRUCTIONS)"
      ]
    },
    {
      "cell_type": "markdown",
      "metadata": {
        "id": "4T7q9duxb2rV"
      },
      "source": [
        "### Create a single Agent App\n",
        "\n",
        "If you want to create an App and Agent in a single turn (i.e. avoiding using create_app -> add_agent) you can use `App.create_single_agent_app`. You must specify the agent display name, and then optionally specify tools for the agent, and the App's display name and description. This function returns an operable App."
      ]
    },
    {
      "cell_type": "markdown",
      "metadata": {
        "id": "SV-NgXCjt8F_"
      },
      "source": [
        "##Update Agent\n",
        "\n",
        "You can update any and all of the fields of an Agent by specifying them to the Agent.update function. Any fields that aren't specified will not be updated.\n"
      ]
    },
    {
      "cell_type": "markdown",
      "source": [
        "### Managing an applications Agents\n",
        "\n",
        "Currently only *one* agent is possible per application, so you would have to combine your extensions into one Agent and add different instructions for different extensions.\n",
        "\n",
        "The application class offers some methods for listing and managing agents, which are shown below. If you had already an agent registered for you app you need to remove it before adding a new one."
      ],
      "metadata": {
        "id": "ddumcEbh9B5m"
      }
    },
    {
      "cell_type": "code",
      "execution_count": 33,
      "metadata": {
        "colab": {
          "base_uri": "https://localhost:8080/"
        },
        "id": "7sHXCM0GoPKG",
        "outputId": "844411ab-9e3d-424c-f213-4a94b042025b"
      },
      "outputs": [
        {
          "output_type": "execute_result",
          "data": {
            "text/plain": [
              "[\n",
              " agent_name: projects/990868019953/locations/us-central1/apps/992199292905062400/agents/5448665605571870720\n",
              " display_name: Company News Agent\n",
              " model: projects/990868019953/locations/us-central1/publishers/google/models/gemini-1.5-pro-001\n",
              " instructions: You are an expert in company information and news. You have access to sources like articles, companies and the people working there to answer user questions.]"
            ]
          },
          "metadata": {},
          "execution_count": 33
        }
      ],
      "source": [
        "app.list_agents()"
      ]
    },
    {
      "cell_type": "code",
      "source": [
        "# app.delete_agent('Company News Agent')"
      ],
      "metadata": {
        "id": "5ZQdmm8z6TgM"
      },
      "execution_count": null,
      "outputs": []
    },
    {
      "cell_type": "markdown",
      "source": [
        "### Registering the Extension\n",
        "\n",
        "We register our extension(s) with the Agent.\n",
        "You can add multiple function declarations and extensions at once.\n",
        "\n",
        "One thing to *note*: Besides the OpenAI spec it makes a big difference to provide instructions for the agent again on when to use which tools and endpoints, and also giving some more hints about input formats.\n",
        "\n",
        "Normally I would have expected for this to be retrieved from the OpenAPI spec, but it makes it more reliable to add the instructions for the tools here again."
      ],
      "metadata": {
        "id": "fbefT7cMR5iM"
      }
    },
    {
      "cell_type": "code",
      "execution_count": 34,
      "metadata": {
        "id": "dkI-VM22Icsw"
      },
      "outputs": [],
      "source": [
        "INSTRUCTIONS = \"\"\"\n",
        "You are an expert in company information and news.\n",
        "You have access to sources like articles, companies and the people working there to answer user questions.\n",
        "If a user asks about companies in an industry, find the correct industry name first from the list and the use that to gather the companies.\n",
        "If a user asks about articles in a specific month provide the date as yyyy-mm-dd format.\n",
        "Companies mentioned in articles can be retrieved by the article id.\n",
        "You can get detail for a company by company id or deatils for an article with the article id.\n",
        "Also the people working for a company can be retrieved via the company id.\n",
        "\n",
        "If the user asks you to compute a numeric value or analyse data use the code interpreter.\n",
        "\n",
        "Only respond based on the response of the tools. Do not create your own answers.\n",
        "\"\"\"\n",
        "\n",
        "updated_agent = created_agent.update(\n",
        "    new_instructions=INSTRUCTIONS,\n",
        "    new_model=\"projects/{}/locations/us-central1/publishers/google/models/gemini-1.5-pro\".format(PROJECT_ID),\n",
        "#    new_functions=[function_declaration],\n",
        "    new_extensions={\n",
        "#        'Code Interpreter': code_interpreter_extension,\n",
        "        'Company News Extension': company_news_extension\n",
        "    }\n",
        ")"
      ]
    },
    {
      "cell_type": "code",
      "execution_count": null,
      "metadata": {
        "id": "C3xbRy-9zjFh",
        "collapsed": true
      },
      "outputs": [],
      "source": [
        "updated_agent"
      ]
    },
    {
      "cell_type": "markdown",
      "metadata": {
        "id": "C3alENcltkey"
      },
      "source": [
        "## Agent Management\n",
        "\n",
        "### Listing Agents\n",
        "\n",
        "You can list all the agents exiting under an App. This will return operatable Agent objects."
      ]
    },
    {
      "cell_type": "code",
      "execution_count": 36,
      "metadata": {
        "colab": {
          "base_uri": "https://localhost:8080/"
        },
        "id": "-U5xSGNT-OqA",
        "outputId": "f650e1fc-774e-44f6-9176-471c93f26e0b"
      },
      "outputs": [
        {
          "output_type": "execute_result",
          "data": {
            "text/plain": [
              "[\n",
              " agent_name: projects/990868019953/locations/us-central1/apps/992199292905062400/agents/5448665605571870720\n",
              " display_name: Company News Agent\n",
              " model: projects/vertex-ai-neo4j-extension/locations/us-central1/publishers/google/models/gemini-1.5-pro\n",
              " instructions: \n",
              " You are an expert in company information and news.\n",
              " You have access to sources like articles, companies and the people working there to answer user questions.\n",
              " If a user asks about companies in an industry, find the correct industry name first from the list and the use that to gather the companies.\n",
              " If a user asks about articles in a specific month provide the date as yyyy-mm-dd format.\n",
              " Companies mentioned in articles can be retrieved by the article id.\n",
              " You can get detail for a company by company id or deatils for an article with the article id.\n",
              " Also the people working for a company can be retrieved via the company id.\n",
              " \n",
              " If the user asks you to compute a numeric value or analyse data use the code interpreter.\n",
              " \n",
              " Only respond based on the response of the tools. Do not create your own answers.\n",
              " \n",
              " tools: { \n",
              "   extension_tool:{\n",
              " \textension: \"projects/990868019953/locations/us-central1/extensions/3661655195470790656\"\n",
              " \tdisplay_name: \"Company News Extension\"\n",
              "   } }]"
            ]
          },
          "metadata": {},
          "execution_count": 36
        }
      ],
      "source": [
        "app.list_agents()"
      ]
    },
    {
      "cell_type": "markdown",
      "metadata": {
        "id": "v1ZsZ_A8v3mf"
      },
      "source": [
        "###Get Agent\n",
        "\n",
        "You can also get a specific Agent using either the resource name or the display name"
      ]
    },
    {
      "cell_type": "code",
      "execution_count": 37,
      "metadata": {
        "id": "jbK_5YLxv3V8"
      },
      "outputs": [],
      "source": [
        "agent = app.get_agent('Company News Agent')"
      ]
    },
    {
      "cell_type": "markdown",
      "metadata": {
        "id": "HtvWq-Q8PlUU"
      },
      "source": [
        "Alternatively, you can get an Agent using the Agent class\n",
        "\n",
        "Note that the only way to create a new Agent is to create it under an App, using `app.add_agent()`. The Agents constructor can only be used to get a reference to an Agent that has already been created."
      ]
    },
    {
      "cell_type": "code",
      "execution_count": null,
      "metadata": {
        "id": "izm5RSB3wbUo"
      },
      "outputs": [],
      "source": [
        "# agent = Agent(agent_id='projects/<project id>/locations/<location id>/<app id>/agents/<agent id>')"
      ]
    },
    {
      "cell_type": "markdown",
      "metadata": {
        "id": "Twl3YkJHtt8y"
      },
      "source": [
        "### Delete Agent\n",
        "Using either the display name or the fully qualified resource name, you can delete a specific agent under the App."
      ]
    },
    {
      "cell_type": "code",
      "execution_count": null,
      "metadata": {
        "id": "Ftgy8kcxC4pr"
      },
      "outputs": [],
      "source": [
        "# app.delete_agent('<Agent Name>')"
      ]
    },
    {
      "cell_type": "markdown",
      "metadata": {
        "id": "m91d6I8i8nXW"
      },
      "source": [
        "#Let the Magic Start - User Conversation Session\n",
        "\n",
        "I must say I've been really impressed by the following conversations and the ability of the LLM to use the tools correctly until all information to answer the question has been collected.\n",
        "\n",
        "The LLM is able to not only use the endpoints once, but also refer back to information from the conversation history and ensure the relevant context is taken into account.\n",
        "\n",
        "It can fix misspelled or incorrect parameters to their correct content, reformat dates in the required shape and more. API functions are called multiple times and also cascading if needed. For instance first retrieve a list of id's for a certain context and then make individual calls for each id to retrieve details.\n",
        "\n",
        "It is also able to resolve pronouns and demonstratives, e.g. \"these\" is resolved to a concrete list of company id's or articles that are then used to make multiple API calls.\n",
        "\n",
        "I'll comment on each question what the trickiness is and how the LLM agent resolved it.\n",
        "\n",
        "NOTE: you can remove `.content` from the end of each run call to get more detailed information about each session action"
      ]
    },
    {
      "cell_type": "code",
      "execution_count": 67,
      "metadata": {
        "id": "cSuSJm6P8oHN",
        "colab": {
          "base_uri": "https://localhost:8080/"
        },
        "outputId": "e0f136b9-1b3d-4ac0-d48d-4a96293f35eb"
      },
      "outputs": [
        {
          "output_type": "stream",
          "name": "stderr",
          "text": [
            "INFO:google.cloud.aiplatform.private_preview.vertex_agents.app:Session init\n",
            "INFO:google.cloud.aiplatform.private_preview.vertex_agents.app:Session init 2\n",
            "INFO:google.cloud.aiplatform.private_preview.vertex_agents.app:app name = projects/990868019953/locations/us-central1/apps/992199292905062400\n",
            "INFO:google.cloud.aiplatform.private_preview.vertex_agents.app:Creating session without request\n"
          ]
        }
      ],
      "source": [
        "session = app.start_session()"
      ]
    },
    {
      "cell_type": "markdown",
      "metadata": {
        "id": "OkuaTZmNgxkL"
      },
      "source": [
        "## Multi-turn conversations with tool calls as needed\n",
        "\n",
        "### Single API call with limiting response\n",
        "\n",
        "Initially we do an easy one, the task here is to call the industries endpoint but then only limit it to 5 results (the endpoint takes no limit argument)\n",
        "\n",
        "> Give me 5 industry names"
      ]
    },
    {
      "cell_type": "code",
      "execution_count": 68,
      "metadata": {
        "id": "HZxzrIK6snLE"
      },
      "outputs": [],
      "source": [
        "result = session.run(\"Give me 5 industry names\")"
      ]
    },
    {
      "cell_type": "code",
      "source": [
        "result.content"
      ],
      "metadata": {
        "colab": {
          "base_uri": "https://localhost:8080/"
        },
        "id": "_8RvgVo3SG9c",
        "outputId": "80ec8c54-1277-44a1-ce8d-74bf48e41b31"
      },
      "execution_count": 69,
      "outputs": [
        {
          "output_type": "execute_result",
          "data": {
            "text/plain": [
              "role: \"model\"\n",
              "parts {\n",
              "  text: \"The first 5 industries are: Electronic Products Manufacturers, Enterprise Software Companies, Computer Hardware Companies, Business Software Companies, Mobile Phone Manufacturers. \\n\"\n",
              "}"
            ]
          },
          "metadata": {},
          "execution_count": 69
        }
      ]
    },
    {
      "cell_type": "markdown",
      "source": [
        "The result object has a lot of details, including the API calls made, the responses and possible reasoning of the model. We have `actions` which can be `user` or model `messages` or `tool_uses` calls and their responses.\n",
        "\n",
        "The `content` attribute holds the final response with `role`and `parts`.\n",
        "\n",
        "We get see the history of the seesion at any time, either to show it to the user or for debugging."
      ],
      "metadata": {
        "id": "gIJUaMBiUZSZ"
      }
    },
    {
      "cell_type": "code",
      "execution_count": null,
      "metadata": {
        "id": "FDZWdyMjs2jA",
        "collapsed": true
      },
      "outputs": [],
      "source": [
        "session.get_history()"
      ]
    },
    {
      "cell_type": "markdown",
      "metadata": {
        "id": "lDG6TD9ThjXr"
      },
      "source": [
        "### Using prior information, fixing parameters and post-filtering\n",
        "\n",
        "Here in this question, we provide a wrong spelling of the industry `Computer Hardware` instead of `Computer Hardware Companies` and an additional location that is not a parameter but needs to be post filtered.\n",
        "\n",
        "> What are 3 companies in the 'Computer Hardware' space in California and their ids?\n",
        "\n",
        "It uses the prior information in the conversation to fix the industry name and applies the post filter and limit to only show 3 Californian companies."
      ]
    },
    {
      "cell_type": "code",
      "execution_count": 70,
      "metadata": {
        "id": "JN6wVTBKBkcB",
        "collapsed": true
      },
      "outputs": [],
      "source": [
        "result = session.run(\"What are 3 companies in the 'Computer Hardware' space in California and their ids?\")"
      ]
    },
    {
      "cell_type": "code",
      "source": [
        "print(result.content.parts[0].text)"
      ],
      "metadata": {
        "id": "iyqErwHRq7gA",
        "colab": {
          "base_uri": "https://localhost:8080/"
        },
        "outputId": "026a7115-8f0f-4966-aad5-08b874d97114"
      },
      "execution_count": 71,
      "outputs": [
        {
          "output_type": "stream",
          "name": "stdout",
          "text": [
            "Here are 3 companies in the 'Computer Hardware' space located in California: Apigee (EAHSCRG21ODCH1xk3354mxA), Xactly (E3lZVAk_KOpeQsRX4AS6F8w), Aerohive Networks (Ec2-e0bEXPuOQvE1KyUfLJg). \n",
            "\n"
          ]
        }
      ]
    },
    {
      "cell_type": "markdown",
      "source": [
        "### Reference back and requiring multiple tool invocations\n",
        "\n",
        "In our next question we reference back with a `these` for the companies, and ask for details that are available in a separate endpoint. But the agent has to call the `people_at_company` endpoint multiple times, as it only takes a single company id.\n",
        "\n",
        "> What people are working at these companies in which roles?\n"
      ],
      "metadata": {
        "id": "110bMx64VoHf"
      }
    },
    {
      "cell_type": "code",
      "source": [
        "result = session.run(\"What people are working at these companies in which roles?\")"
      ],
      "metadata": {
        "id": "QsLSLM8Z7K3C"
      },
      "execution_count": 72,
      "outputs": []
    },
    {
      "cell_type": "code",
      "source": [
        "print(result.content.parts[0].text)"
      ],
      "metadata": {
        "colab": {
          "base_uri": "https://localhost:8080/"
        },
        "id": "o6aSLbTZQPYo",
        "outputId": "b92cd475-40cc-4371-c289-d15b6df1ccd6"
      },
      "execution_count": 73,
      "outputs": [
        {
          "output_type": "stream",
          "name": "stdout",
          "text": [
            "At Apigee (EAHSCRG21ODCH1xk3354mxA), Promod Haque, Bob L Corey, and Neal Dempsey are on the Board of Directors. At Xactly (E3lZVAk_KOpeQsRX4AS6F8w), Chris Cabrera (CEO), Jeff Wilson, Brian Sheth, Betty Hung, and Dave Pidwell are on the Board. At Aerohive Networks (Ec2-e0bEXPuOQvE1KyUfLJg), David K Flynn is the CEO. \n",
            "\n"
          ]
        }
      ]
    },
    {
      "cell_type": "markdown",
      "source": [
        "### Parameter conversion, result sorting\n",
        "\n",
        "Here we want to do two things, switching the conversation from companies to articles without restarting the session.\n",
        "\n",
        "We give a partial date `January 2021`, that has to be converted to the format `yyyy-mm-dd` for the API call.\n",
        "\n",
        "It has to understand that \"good sentiment\" refers to the numeric score and that we want to have the highest score.  The list of article that come with sentiment output, the model needs to read, understand, sort by sentiment descending\n",
        "\n",
        "And finally select the 3 highest ranked articles and output their titles.\n",
        "\n",
        "> What 3 articles in January 2021 had a really good sentiment?"
      ],
      "metadata": {
        "id": "jpbR3nwyrF3h"
      }
    },
    {
      "cell_type": "code",
      "source": [
        "result = session.run(\"What 3 articles in January 2021 had a really good sentiment?\")"
      ],
      "metadata": {
        "id": "JisH_R5UwhN-"
      },
      "execution_count": 74,
      "outputs": []
    },
    {
      "cell_type": "code",
      "source": [
        "print(result.content.parts[0].text)"
      ],
      "metadata": {
        "colab": {
          "base_uri": "https://localhost:8080/"
        },
        "id": "boeYP05MQerK",
        "outputId": "7dc5b553-0b78-4ede-a5cf-72a5a0a66e6f"
      },
      "execution_count": 75,
      "outputs": [
        {
          "output_type": "stream",
          "name": "stdout",
          "text": [
            "These articles from January 2021 had a sentiment score of 0.8 or higher: Accenture Acquires Wolox, Boosting Cloud First and Digital Transformation Capabilities in Argentina and South America (ART41721547195, sentiment: 0.892), Ubergizmo’s Best of CES 2021 (ART166350129247, sentiment: 0.912), Navisite Snaps Up Velocity Technology Solutions (ART269940336617, sentiment: 0.895). \n",
            "\n"
          ]
        }
      ]
    },
    {
      "cell_type": "markdown",
      "source": [
        "### Multiple retrieval calls plus summarization\n",
        "\n",
        "Again the agent is asked to refer to the articles from the conversation before and get their ids.\n",
        "Then it needs to make 3 calls to the `article` details endpoint to get the actual text.\n",
        "And then use the LLM language skills to generate the summary.\n",
        "\n",
        "> Can you summarize the text content of these articles?"
      ],
      "metadata": {
        "id": "2vkP1pXir2cn"
      }
    },
    {
      "cell_type": "code",
      "source": [
        "result = session.run(\"Can you summarize the text content of these articles?\")\n",
        "result.content"
      ],
      "metadata": {
        "colab": {
          "base_uri": "https://localhost:8080/"
        },
        "id": "zuf4Zg_B8YpE",
        "outputId": "d8560a4f-5fdf-4d52-f584-ea0667562417"
      },
      "execution_count": 76,
      "outputs": [
        {
          "output_type": "execute_result",
          "data": {
            "text/plain": [
              "role: \"model\"\n",
              "parts {\n",
              "  text: \"Accenture Acquires Wolox, Boosting Cloud First and Digital Transformation Capabilities in Argentina and South America: This article reports that Accenture acquired Wolox, an Argentinian cloud native and agile development company. The acquisition will boost Accenture\\'s cloud and digital transformation capabilities in Argentina and South America.\\n\\nUbergizmo’s Best of CES 2021: This article presents Ubergizmo\\'s picks for the best products from CES 2021, including the Samsung Galaxy S21 series, Acer Predator Triton 300 SE, ASUS ROG Flow X13, Qualcomm 3D Sonic Sensor Gen 2, and more. \\n\\nNavisite Snaps Up Velocity Technology Solutions: The article discusses Navisite\\'s acquisition of Velocity Technology Solutions, a cloud managed service provider. The acquisition aims to enhance Navisite\\'s position in managed cloud and ERP services, expanding its offerings for mid-market and enterprise customers. \\n\"\n",
              "}"
            ]
          },
          "metadata": {},
          "execution_count": 76
        }
      ]
    },
    {
      "cell_type": "markdown",
      "source": [
        "### Refer back to a before previous information and disambiguate\n",
        "\n",
        "Here we point back to the articles from the before previous question and ask for the companies mentioned. Again multiple API calls plus a de-duplication step at the end.\n",
        "\n",
        "> Which companies were mentioned by these articles?"
      ],
      "metadata": {
        "id": "yWNS3C6hrDqd"
      }
    },
    {
      "cell_type": "code",
      "source": [
        "result = session.run(\"Which 3 companies were mentioned by these articles?\")\n",
        "print(result.content.parts[0].text)"
      ],
      "metadata": {
        "colab": {
          "base_uri": "https://localhost:8080/"
        },
        "id": "wCIDKJz58eH6",
        "outputId": "08429fe3-1947-418a-aaa4-68e45876cc1b"
      },
      "execution_count": 77,
      "outputs": [
        {
          "output_type": "stream",
          "name": "stdout",
          "text": [
            "The articles mentioned these 3 companies: Accenture (E6FeeEA51OSGCZak-XnjwpA), Wolox (E4UUIpJLLPAi-cVy1f2SmhQ), and Navisite (EV7uONsHPMnixTJcPkc3jKQ). \n",
            "\n"
          ]
        }
      ]
    },
    {
      "cell_type": "markdown",
      "source": [
        "### Vague reference resolution and multiple API calls\n",
        "\n",
        "Here we refer back to the companies from before with \"them\" and also specify the roles requirement for the API call choice only vaguely.\n",
        "The Agent needs to call the `people_at_company` endpoint multiple times, with the id's of the companies retrieved earlier in the session history and then aggregate the information into the response.\n",
        "\n",
        "> And who are the people that work there in which roles?"
      ],
      "metadata": {
        "id": "_Z7qqf648ovQ"
      }
    },
    {
      "cell_type": "code",
      "source": [
        "result = session.run(\"And who are the people that work there in which roles?\")\n",
        "print(result.content.parts[0].text)"
      ],
      "metadata": {
        "colab": {
          "base_uri": "https://localhost:8080/"
        },
        "id": "zHQWeK628x5X",
        "outputId": "4cf10394-5a7d-4af9-e2ff-55f66eadcd41"
      },
      "execution_count": 78,
      "outputs": [
        {
          "output_type": "stream",
          "name": "stdout",
          "text": [
            "At Wolox (E4UUIpJLLPAi-cVy1f2SmhQ), Agustina Fainguersch is the CEO. At Navisite (EV7uONsHPMnixTJcPkc3jKQ), Larry W Schwartz, Andy Ruhan, Scott G. Pasquini, and Arthur Becker are on the board and Mark Clayman is the CEO. I do not have information about people working at Accenture. \n",
            "\n"
          ]
        }
      ]
    },
    {
      "cell_type": "markdown",
      "metadata": {
        "id": "OrLmMtfuuTHR"
      },
      "source": [
        "## Get conversation history\n",
        "\n",
        "You can view the entire conversation history by using `session.get_history()`"
      ]
    },
    {
      "cell_type": "code",
      "execution_count": null,
      "metadata": {
        "id": "gvUfTiVNOpDx"
      },
      "outputs": [],
      "source": [
        "session.get_history()"
      ]
    },
    {
      "cell_type": "markdown",
      "metadata": {
        "id": "E3U4v7g9u3Hg"
      },
      "source": [
        "Alternatively, you can list all the sessions your app has run and access or output the details in a structured way."
      ]
    },
    {
      "cell_type": "code",
      "execution_count": null,
      "metadata": {
        "id": "n2KK6-YKPPbN"
      },
      "outputs": [],
      "source": [
        "sessions = app.list_sessions()"
      ]
    },
    {
      "cell_type": "code",
      "execution_count": null,
      "metadata": {
        "id": "bvGSQuCwOo0A"
      },
      "outputs": [],
      "source": [
        "print(sessions[0])"
      ]
    },
    {
      "cell_type": "markdown",
      "source": [
        "## Cleanup\n",
        "\n",
        "Each abstraction has means to remove / clean up at runtime (sessions) or for the deployment (agent, application)\n",
        "\n",
        "* delete session (optionally)\n",
        "* delete agent (optionally)\n",
        "* delete application"
      ],
      "metadata": {
        "id": "SPxo2g90vAQn"
      }
    },
    {
      "cell_type": "code",
      "execution_count": null,
      "metadata": {
        "id": "9AHX-qgAOqK4"
      },
      "outputs": [],
      "source": [
        "# app.delete_session('<Session Name>')"
      ]
    },
    {
      "cell_type": "code",
      "source": [
        "# App.delete(app_name=\"projects/990868019953/locations/us-central1/apps/3266798579703873536\")"
      ],
      "metadata": {
        "id": "G0wCALe1u-DC"
      },
      "execution_count": null,
      "outputs": []
    },
    {
      "cell_type": "markdown",
      "source": [
        "## Hosting and Deployment\n",
        "\n",
        "To host our application a simple front-end like streamlit or gradio can be used, or it can be packaged into an [API with Reasoning Engine](https://www.googlecloudcommunity.com/gc/Cloud-Product-Articles/GenAI-GraphRAG-and-AI-agents-using-Vertex-AI-Reasoning-Engine/ta-p/789066) or Cloud Run."
      ],
      "metadata": {
        "id": "-DFkwzpJ53v7"
      }
    },
    {
      "cell_type": "markdown",
      "source": [
        "# Conclusion\n",
        "\n",
        "We demonstrated creating an agentic GenAI application that uses an external tool with a number of endpoints backed by a Neo4j Companies Graph. The appliciation is using the Vertex AI Agent SDK to make those endpoints available for information retrieval and interaction to the LLM for the human conversation.\n",
        "\n",
        "We took the following steps\n",
        "\n",
        "1. Setup the Neo4j Database\n",
        "2. Build and Deploy the REST API Endpoints\n",
        "3. Describe the REST API with an OpenAPI Specification\n",
        "4. Create the application and register the endpoint extension to an agent\n",
        "5. Demonstrate the application in a complex conversation that requires combination of memory usage and chained endpoint calls\n",
        "\n",
        "\n",
        "It was really easy to integrate the endpoints that connect to the Neo4j graph database with the Agent SDK to the GenAI application. The main effort was adding detailed descriptions and instructions the API spec and registration.\n",
        "\n",
        "The conversational capabilities were really impressive. Even for indirect and vague questions, the agent, using Gemini 1.5 Pro, was able to retrieve information either from the conversation history and previous responses or do multiple and even chained tool calls to get to the level of detailed needed to provide the answer.\n",
        "\n",
        "Try it yourself. You find more information about the [Vertex AI Agent SDK](https://cloud.google.com/vertex-ai/generative-ai/docs/agent-api/overview) and the [GenAI capabilities of the Neo4j Graph Database](https://neo4j.com/generativeai).\n"
      ],
      "metadata": {
        "id": "GlIaEzqo6Rmb"
      }
    }
  ],
  "metadata": {
    "colab": {
      "provenance": []
    },
    "kernelspec": {
      "display_name": "Python 3",
      "name": "python3"
    },
    "language_info": {
      "name": "python"
    }
  },
  "nbformat": 4,
  "nbformat_minor": 0
}