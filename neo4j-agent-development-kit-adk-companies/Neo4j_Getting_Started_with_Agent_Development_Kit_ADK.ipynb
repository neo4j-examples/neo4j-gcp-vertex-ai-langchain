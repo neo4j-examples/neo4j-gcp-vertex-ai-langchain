{
  "nbformat": 4,
  "nbformat_minor": 0,
  "metadata": {
    "colab": {
      "provenance": []
    },
    "kernelspec": {
      "name": "python3",
      "display_name": "Python 3"
    },
    "language_info": {
      "name": "python"
    }
  },
  "cells": [
    {
      "cell_type": "markdown",
      "source": [
        "# Getting Started with the Agent Development Kit (ADK) with Neo4j\n",
        "\n",
        "This notebook shows how to use the Vertex AI Agent Framework to setup a multi-agent system integrating Neo4j.\n",
        "\n",
        "The Vertex AI ADK is a python-based SDK that empowers developers to build multi-agent applications with custom logic, tools, and integrations.\n",
        "\n",
        "In this notebook you will learn how to do the following:\n",
        "\n",
        "*  Install Agent Development Kit\n",
        "*  Define functions as tools\n",
        "*  Define a database agent and an investor relationship agent\n",
        "*  Create a \"Investment Research\" Multi-Agent\n",
        "\n",
        "\n",
        "## Learn more about Neo4j\n",
        "\n",
        "* https://neo4j.com/genai\n",
        "* https://neo4j.com/developer\n",
        "* https://graphrag.com\n",
        "* https://neo4j.com/labs/genai-ecosystem\n",
        "* [Neo4j and MCP Toolbox](https://neo4j.com/blog/developer/ai-agents-gen-ai-toolbox/)\n",
        "\n",
        "## Learn more about the ADK\n",
        "\n",
        "* [Launch Blog](https://cloud.google.com/blog/products/ai-machine-learning/build-and-manage-multi-system-agents-with-vertex-ai)\n",
        "* [Developer Blog](https://developers.googleblog.com/en/agent-development-kit-easy-to-build-multi-agent-applications/)\n",
        "* https://pypi.org/project/google-adk/\n",
        "* https://google.github.io/adk-docs/\n",
        "* https://github.com/google/adk-samples/\n",
        "* [LLM Agents](https://google.github.io/adk-docs/agents/llm-agents/#putting-it-together-example)\n",
        "* [Deploy to Agent Engine](https://google.github.io/adk-docs/deploy/agent-engine/)"
      ],
      "metadata": {
        "id": "3OqG2k_o_zmb"
      }
    },
    {
      "cell_type": "markdown",
      "source": [
        "## Company News Knowledge Graph\n",
        "\n",
        "Our example dataset will be a small subset (250k entities) of [diffbot's](https://diffbot.com/) global Knowledge Graph (50bn entities).\n",
        "\n",
        "It contains organizations, people in their leadership, locations and industries.\n",
        "\n",
        "Additionally articles mentioning these companies, which are chunked and indexed as vector embeddings.\n",
        "\n",
        "![](https://camo.githubusercontent.com/2ebaff2ceb74cd8af8f7ef8a5a4791ef92ea8f631c0fc41d828eb8ae9c7bf553/68747470733a2f2f692e696d6775722e636f6d2f6c574a5a5345652e706e67)\n",
        "\n",
        "You can access and query a read only version of that graph with the following credentials:\n",
        "\n",
        "* URL: https://demo.neo4jlabs.com:7473\n",
        "* Username: companies\n",
        "* Password: companies\n",
        "* Database: companies"
      ],
      "metadata": {
        "id": "1dCgx1ZVztBV"
      }
    },
    {
      "cell_type": "markdown",
      "source": [
        "# Authenticate\n",
        "You need this to download the SDK from GCS"
      ],
      "metadata": {
        "id": "lz5Yy_jXH-Ur"
      }
    },
    {
      "cell_type": "code",
      "execution_count": 192,
      "metadata": {
        "id": "chT-5K9yrrW9"
      },
      "outputs": [],
      "source": [
        "from google.colab import auth\n",
        "auth.authenticate_user()"
      ]
    },
    {
      "cell_type": "markdown",
      "source": [
        "# Install the Agent Development Kit"
      ],
      "metadata": {
        "id": "E29jokLY8VRH"
      }
    },
    {
      "cell_type": "code",
      "source": [
        "!pip3 install --upgrade --quiet google-adk neo4j-rust-ext"
      ],
      "metadata": {
        "collapsed": true,
        "id": "RNrh4GXq8bVn"
      },
      "execution_count": 193,
      "outputs": []
    },
    {
      "cell_type": "code",
      "source": [
        "import os\n",
        "import random\n",
        "import sys"
      ],
      "metadata": {
        "id": "34Gu29j2w4py"
      },
      "execution_count": 194,
      "outputs": []
    },
    {
      "cell_type": "markdown",
      "source": [
        "# Developer API or Vertex AI\n",
        "\n",
        "The ADK supports two APIs:\n",
        "\n",
        "* Google Gemini API (AI Studio)\n",
        "* Vertex AI Gemini API."
      ],
      "metadata": {
        "id": "osm6MztSEX2y"
      }
    },
    {
      "cell_type": "markdown",
      "source": [],
      "metadata": {
        "id": "xXhN34h_4hBr"
      }
    },
    {
      "cell_type": "code",
      "source": [
        "# Only run this block for ML Developer API. Use your own API key.\n",
        "import os\n",
        "\n",
        "GOOGLE_API_KEY = \"FILL YOUR API KEY\" #@param {type:\"string\"}\n",
        "\n",
        "os.environ[\"GOOGLE_GENAI_USE_VERTEXAI\"] = \"0\"\n",
        "os.environ[\"GOOGLE_API_KEY\"] = GOOGLE_API_KEY"
      ],
      "metadata": {
        "id": "va9nPjT186Xm"
      },
      "execution_count": 195,
      "outputs": []
    },
    {
      "cell_type": "code",
      "source": [
        "# Only run this block for Vertex AI API Use your own project / location.\n",
        "import os\n",
        "\n",
        "GOOGLE_CLOUD_PROJECT = \"vertex-ai-neo4j-extension\" #@param {type:\"string\"}\n",
        "\n",
        "os.environ[\"GOOGLE_GENAI_USE_VERTEXAI\"] = \"1\"\n",
        "os.environ[\"GOOGLE_CLOUD_PROJECT\"] = GOOGLE_CLOUD_PROJECT\n",
        "os.environ[\"GOOGLE_CLOUD_LOCATION\"] = \"us-central1\""
      ],
      "metadata": {
        "id": "aCLvbsLp89o7"
      },
      "execution_count": 196,
      "outputs": []
    },
    {
      "cell_type": "markdown",
      "source": [
        "# Neo4j Database Connectivity\n",
        "\n",
        "We define a small class `neo4jDatabase` that manages connecting to Neo4j and running read queries."
      ],
      "metadata": {
        "id": "1-rAplcsx22u"
      }
    },
    {
      "cell_type": "code",
      "source": [
        "import logging\n",
        "\n",
        "logger = logging.getLogger('agent_neo4j_cypher')\n",
        "logger.info(\"Initializing Database for tools\")"
      ],
      "metadata": {
        "id": "sRtCKjAlhrEs"
      },
      "execution_count": 197,
      "outputs": []
    },
    {
      "cell_type": "code",
      "source": [
        "from neo4j import GraphDatabase\n",
        "from typing import Any\n",
        "import re\n",
        "\n",
        "class neo4jDatabase:\n",
        "    def __init__(self,  neo4j_uri: str, neo4j_username: str, neo4j_password: str):\n",
        "        \"\"\"Initialize connection to the Neo4j database\"\"\"\n",
        "        logger.debug(f\"Initializing database connection to {neo4j_uri}\")\n",
        "        d = GraphDatabase.driver(neo4j_uri, auth=(neo4j_username, neo4j_password))\n",
        "        d.verify_connectivity()\n",
        "        self.driver = d\n",
        "\n",
        "    def is_write_query(self, query: str) -> bool:\n",
        "      return re.search(r\"\\b(MERGE|CREATE|SET|DELETE|REMOVE|ADD)\\b\", query, re.IGNORECASE) is not None\n",
        "\n",
        "    def _execute_query(self, query: str, params: dict[str, Any] | None = None) -> list[dict[str, Any]]:\n",
        "        \"\"\"Execute a Cypher query and return results as a list of dictionaries\"\"\"\n",
        "        logger.debug(f\"Executing query: {query}\")\n",
        "        try:\n",
        "            if self.is_write_query(query):\n",
        "                logger.error(f\"Write query not supported {query}\")\n",
        "                raise \"Write Queries are not supported in this agent\"\n",
        "                # logger.debug(f\"Write query affected {counters}\")\n",
        "                # result = self.driver.execute_query(query, params)\n",
        "                # counters = vars(result.summary.counters)\n",
        "                # return [counters]\n",
        "            else:\n",
        "                result = self.driver.execute_query(query, params)\n",
        "                results = [dict(r) for r in result.records]\n",
        "                logger.debug(f\"Read query returned {len(results)} rows\")\n",
        "                return results\n",
        "        except Exception as e:\n",
        "            logger.error(f\"Database error executing query: {e}\\n{query}\")\n",
        "            raise"
      ],
      "metadata": {
        "id": "04x4PdPMgTtE"
      },
      "execution_count": 198,
      "outputs": []
    },
    {
      "cell_type": "code",
      "source": [
        "db = neo4jDatabase(\"neo4j+s://demo.neo4jlabs.com\",\"companies\",\"companies\")"
      ],
      "metadata": {
        "id": "1t5Nx3Yq2DKP"
      },
      "execution_count": 199,
      "outputs": []
    },
    {
      "cell_type": "code",
      "source": [
        "# Testing database connection\n",
        "db._execute_query(\"RETURN 1\")"
      ],
      "metadata": {
        "colab": {
          "base_uri": "https://localhost:8080/"
        },
        "id": "kSGPD5hxh2cw",
        "outputId": "eab68002-e35f-4463-bb43-e458a9e9f53e"
      },
      "execution_count": 200,
      "outputs": [
        {
          "output_type": "execute_result",
          "data": {
            "text/plain": [
              "[{'1': 1}]"
            ]
          },
          "metadata": {},
          "execution_count": 200
        }
      ]
    },
    {
      "cell_type": "markdown",
      "source": [
        "## Defining Functions for our Database Agent\n",
        "\n",
        "* get_schema - Retrieve Database Schema for the LLM\n",
        "* execute_read_query - Execute Cypher Read Query"
      ],
      "metadata": {
        "id": "01R-3Y492OxN"
      }
    },
    {
      "cell_type": "code",
      "source": [
        "def get_schema() -> list[dict[str,Any]]:\n",
        "  \"\"\"Get the schema of the database, returns node-types(labels) with their types and attributes and relationships between node-labels\n",
        "  Args: None\n",
        "  Returns:\n",
        "    list[dict[str,Any]]: A list of dictionaries representing the schema of the database\n",
        "    For example\n",
        "    ```\n",
        "    [{'label': 'Person','attributes': {'summary': 'STRING','id': 'STRING unique indexed', 'name': 'STRING indexed'},\n",
        "      'relationships': {'HAS_PARENT': 'Person', 'HAS_CHILD': 'Person'}}]\n",
        "    ```\n",
        "  \"\"\"\n",
        "  try:\n",
        "      results = db._execute_query(\n",
        "              \"\"\"\n",
        "call apoc.meta.data() yield label, property, type, other, unique, index, elementType\n",
        "where elementType = 'node' and not label starts with '_'\n",
        "with label,\n",
        "collect(case when type <> 'RELATIONSHIP' then [property, type + case when unique then \" unique\" else \"\" end + case when index then \" indexed\" else \"\" end] end) as attributes,\n",
        "collect(case when type = 'RELATIONSHIP' then [property, head(other)] end) as relationships\n",
        "RETURN label, apoc.map.fromPairs(attributes) as attributes, apoc.map.fromPairs(relationships) as relationships\n",
        "              \"\"\"\n",
        "          )\n",
        "      return results\n",
        "  except Exception as e:\n",
        "      return [{\"error\":str(e)}]"
      ],
      "metadata": {
        "id": "l1G9gtSDw8yt"
      },
      "execution_count": 201,
      "outputs": []
    },
    {
      "cell_type": "code",
      "source": [
        "get_schema()"
      ],
      "metadata": {
        "colab": {
          "base_uri": "https://localhost:8080/"
        },
        "collapsed": true,
        "id": "6qLJTGTXiLUK",
        "outputId": "824326ee-5aa0-4e1c-8846-a656a5b4254e"
      },
      "execution_count": 202,
      "outputs": [
        {
          "output_type": "stream",
          "name": "stderr",
          "text": [
            "WARNING:neo4j.notifications:Received notification from DBMS server: {severity: WARNING} {code: Neo.ClientNotification.Statement.AggregationSkippedNull} {category: UNRECOGNIZED} {title: The query contains an aggregation function that skips null values.} {description: null value eliminated in set function.} {position: None} for query: '\\ncall apoc.meta.data() yield label, property, type, other, unique, index, elementType\\nwhere elementType = \\'node\\' and not label starts with \\'_\\'\\nwith label,\\ncollect(case when type <> \\'RELATIONSHIP\\' then [property, type + case when unique then \" unique\" else \"\" end + case when index then \" indexed\" else \"\" end] end) as attributes,\\ncollect(case when type = \\'RELATIONSHIP\\' then [property, head(other)] end) as relationships\\nRETURN label, apoc.map.fromPairs(attributes) as attributes, apoc.map.fromPairs(relationships) as relationships\\n              '\n"
          ]
        },
        {
          "output_type": "execute_result",
          "data": {
            "text/plain": [
              "[{'label': 'Person',\n",
              "  'attributes': {'summary': 'STRING',\n",
              "   'id': 'STRING unique indexed',\n",
              "   'name': 'STRING indexed'},\n",
              "  'relationships': {'HAS_PARENT': 'Person', 'HAS_CHILD': 'Person'}},\n",
              " {'label': 'Organization',\n",
              "  'attributes': {'summary': 'STRING',\n",
              "   'isDissolved': 'BOOLEAN',\n",
              "   'id': 'STRING unique indexed',\n",
              "   'diffbotId': 'STRING',\n",
              "   'nbrEmployees': 'INTEGER',\n",
              "   'name': 'STRING indexed',\n",
              "   'motto': 'STRING',\n",
              "   'isPublic': 'BOOLEAN',\n",
              "   'revenue': 'FLOAT'},\n",
              "  'relationships': {'HAS_COMPETITOR': 'Organization',\n",
              "   'HAS_BOARD_MEMBER': 'Person',\n",
              "   'HAS_CEO': 'Person',\n",
              "   'HAS_SUBSIDIARY': 'Organization',\n",
              "   'HAS_INVESTOR': 'Organization',\n",
              "   'HAS_CATEGORY': 'IndustryCategory',\n",
              "   'HAS_SUPPLIER': 'Organization',\n",
              "   'IN_CITY': 'City'}},\n",
              " {'label': 'IndustryCategory',\n",
              "  'attributes': {'id': 'STRING unique indexed', 'name': 'STRING'},\n",
              "  'relationships': {}},\n",
              " {'label': 'City',\n",
              "  'attributes': {'summary': 'STRING', 'id': 'STRING', 'name': 'STRING'},\n",
              "  'relationships': {'IN_COUNTRY': 'Country'}},\n",
              " {'label': 'Country',\n",
              "  'attributes': {'summary': 'STRING', 'id': 'STRING', 'name': 'STRING'},\n",
              "  'relationships': {}},\n",
              " {'label': 'Article',\n",
              "  'attributes': {'summary': 'STRING',\n",
              "   'id': 'STRING unique indexed',\n",
              "   'sentiment': 'FLOAT',\n",
              "   'author': 'STRING',\n",
              "   'title': 'STRING',\n",
              "   'date': 'DATE_TIME',\n",
              "   'siteName': 'STRING'},\n",
              "  'relationships': {'HAS_CHUNK': 'Chunk', 'MENTIONS': 'Organization'}},\n",
              " {'label': 'Chunk',\n",
              "  'attributes': {'text': 'STRING indexed',\n",
              "   'embedding_google': 'LIST',\n",
              "   'embedding': 'LIST',\n",
              "   'embedding_google_004': 'LIST'},\n",
              "  'relationships': {}},\n",
              " {'label': 'Fewshot',\n",
              "  'attributes': {'id': 'INTEGER',\n",
              "   'Question': 'STRING',\n",
              "   'Cypher': 'STRING',\n",
              "   'embedding': 'LIST'},\n",
              "  'relationships': {}}]"
            ]
          },
          "metadata": {},
          "execution_count": 202
        }
      ]
    },
    {
      "cell_type": "code",
      "source": [
        "def execute_read_query(query: str, params: dict[str, Any]) -> list[dict[str, Any]]:\n",
        "    \"\"\"\n",
        "    Execute a Neo4j Cypher query and return results as a list of dictionaries\n",
        "    Args:\n",
        "        query (str): The Cypher query to execute\n",
        "        params (dict[str, Any], optional): The parameters to pass to the query or None.\n",
        "    Raises:\n",
        "        Exception: If there is an error executing the query\n",
        "    Returns:\n",
        "        list[dict[str, Any]]: A list of dictionaries representing the query results\n",
        "    \"\"\"\n",
        "    try:\n",
        "        if params is None:\n",
        "            params = {}\n",
        "        results = db._execute_query(query, params)\n",
        "        return results\n",
        "    except Exception as e:\n",
        "        return [{\"error\":str(e)}]"
      ],
      "metadata": {
        "id": "J6CKK3-JiZUB"
      },
      "execution_count": 203,
      "outputs": []
    },
    {
      "cell_type": "code",
      "source": [
        "execute_read_query(\"RETURN 1\", None)"
      ],
      "metadata": {
        "colab": {
          "base_uri": "https://localhost:8080/"
        },
        "id": "Ho2K5-2t2zYZ",
        "outputId": "e1e73363-d484-4c69-dbb0-231e2bc00907"
      },
      "execution_count": 204,
      "outputs": [
        {
          "output_type": "execute_result",
          "data": {
            "text/plain": [
              "[{'1': 1}]"
            ]
          },
          "metadata": {},
          "execution_count": 204
        }
      ]
    },
    {
      "cell_type": "markdown",
      "source": [
        "## Defining Functions for our Investment Research Agent\n",
        "\n",
        "* get_schema - Retrieve Database Schema for the LLM\n",
        "* get_investors - Returns the investor in the company with this name or id."
      ],
      "metadata": {
        "id": "uMNZTdX_2r-L"
      }
    },
    {
      "cell_type": "code",
      "source": [
        "def get_investors(company: str) -> list[dict[str, Any]]:\n",
        "    \"\"\"\n",
        "    Returns the investor in the company with this name or id.\n",
        "    Args:\n",
        "        company (str): name of the company to find investors in\n",
        "    Returns:\n",
        "        list[dict[str, Any]]: A list of investor ids, names (and their types Organization or Person)\n",
        "    \"\"\"\n",
        "    try:\n",
        "        results = db._execute_query(\"\"\"\n",
        "        MATCH p=(o:Organization)<-[r:HAS_INVESTOR]-(i)\n",
        "        WHERE o.name=$company OR o.id=$company\n",
        "        RETURN i.id as id, i.name as name, head(labels(i)) as type\n",
        "        \"\"\", {\"company\":company})\n",
        "        return results\n",
        "    except Exception as e:\n",
        "        return [{\"error\":str(e)}]"
      ],
      "metadata": {
        "id": "iAqLn3AKoxkA"
      },
      "execution_count": 221,
      "outputs": []
    },
    {
      "cell_type": "code",
      "source": [
        "get_investors(\"Cloudflare\")"
      ],
      "metadata": {
        "colab": {
          "base_uri": "https://localhost:8080/"
        },
        "id": "znthqmOgimM4",
        "outputId": "7ed57222-bf0f-4fa8-9e01-b821fc1e5cbd"
      },
      "execution_count": 223,
      "outputs": [
        {
          "output_type": "execute_result",
          "data": {
            "text/plain": [
              "[{'id': 'EIBehdsQ4ME-yr8WK8tiC1w',\n",
              "  'name': 'Atlas Financial Group',\n",
              "  'type': 'Organization'},\n",
              " {'id': 'E-qHiBRsMNb2wOsqdSx2CfQ',\n",
              "  'name': 'Pelion Venture Partners',\n",
              "  'type': 'Organization'},\n",
              " {'id': 'E7obn7yRnMP6HjTQ4xOL6Dg', 'name': 'Venrock', 'type': 'Organization'},\n",
              " {'id': 'EfCgjTBhgNdyHkynILGypYg',\n",
              "  'name': 'New Enterprise Associates (NEA)',\n",
              "  'type': 'Organization'},\n",
              " {'id': 'EptIVnF6gNuOmOmAdBku7Uw',\n",
              "  'name': 'National Science Foundation (NSF)',\n",
              "  'type': 'Organization'},\n",
              " {'id': 'EdE6JQUuvMf6rTFv2qMJZqQ',\n",
              "  'name': 'Union Square Ventures',\n",
              "  'type': 'Organization'},\n",
              " {'id': 'E0aVDBaUAMSWgjywIrE4IwA',\n",
              "  'name': 'Greenspring Associates',\n",
              "  'type': 'Organization'},\n",
              " {'id': 'EThF8yM26NOmTZYsND2DqRQ',\n",
              "  'name': 'Microsoft Accelerator',\n",
              "  'type': 'Organization'},\n",
              " {'id': 'EUFq-3WlpNsq0pvfUYWXOEA', 'name': 'Google', 'type': 'Organization'},\n",
              " {'id': 'EmuHMD_KVM1OUKHkQE21s5A',\n",
              "  'name': 'Qualcomm Ventures',\n",
              "  'type': 'Organization'},\n",
              " {'id': 'E1XokcZs2NqGwLR47G92lFQ', 'name': 'Baidu', 'type': 'Organization'},\n",
              " {'id': 'E_z0hoZzCMJawSGOzcGJpEA',\n",
              "  'name': 'Fidelity Investments',\n",
              "  'type': 'Organization'},\n",
              " {'id': 'EQ0sXW3JHP1iVGViigR65Yg', 'name': 'CapitalG', 'type': 'Organization'},\n",
              " {'id': 'EKBYcQJj_PEGkleEDZnKQrg', 'name': 'ESO Fund', 'type': 'Organization'},\n",
              " {'id': 'Ef-HCFsSjOrGoIWH4dcdpXA',\n",
              "  'name': 'Franklin Templeton Investments',\n",
              "  'type': 'Organization'}]"
            ]
          },
          "metadata": {},
          "execution_count": 223
        }
      ]
    },
    {
      "cell_type": "markdown",
      "source": [
        "# Define our Agents\n",
        "\n",
        "An AI agent reasons, plans, and takes actions.\n",
        "\n",
        "The agent takes actions via access to **tools**, deciding how and when to invoke a tool. The agent also manages orchestration, creating a plan for answering a user query and adapting to responses that aren't quite correct.\n",
        "\n",
        "Agent **tools** can be Python functions, or Vertex AI Extensions, or MCP Servers.\n",
        "\n",
        "## Creating the Database Agent.\n",
        "\n",
        "* display name\n",
        "* instructions - detailed, making it clear exactly how the agent should behave and which tools to use when\n",
        "* tools\n",
        "\n"
      ],
      "metadata": {
        "id": "meW7SNrTyCgn"
      }
    },
    {
      "cell_type": "code",
      "source": [
        "from google.adk.agents import Agent"
      ],
      "metadata": {
        "id": "yI9pmcREDKNK"
      },
      "execution_count": 207,
      "outputs": []
    },
    {
      "cell_type": "code",
      "source": [
        "MODEL=\"gemini-2.5-pro-exp-03-25\""
      ],
      "metadata": {
        "id": "exrr_oCNLxqZ"
      },
      "execution_count": 208,
      "outputs": []
    },
    {
      "cell_type": "code",
      "source": [
        "database_agent = Agent(\n",
        "    model=MODEL,\n",
        "    name='graph_database_agent',\n",
        "    instruction=\"\"\"\n",
        "      You are an Neo4j graph database and Cypher query expert, that must use the database schema with a user question and repeatedly generate valid cypher statements\n",
        "      to execute on the database and answer the user's questions in a friendly manner in natural language.\n",
        "      If in doubt the database schema is always prioritized when it comes to nodes-types (labels) or relationship-types or property names, never take the user's input at face value.\n",
        "      If the user requests also render tables, charts or other artifacts with the query results.\n",
        "      Always validate the correct node-labels at the end of a relationship based on the schema.\n",
        "\n",
        "      If a query fails or doesn't return data, use the error response 3 times to try to fix the generated query and re-run it, don't return the error to the user.\n",
        "      If you cannot fix the query, explain the issue to the user and apologize.\n",
        "      *You are prohibited* from using directional arrows (like -> or <-) in the graph patterns, always use undirected patterns like `(:Label)-[:TYPE]-(:Label)`.\n",
        "      You get negative points for using directional arrays in patterns.\n",
        "\n",
        "      Fetch the graph database schema first and keep it in session memory to access later for query generation.\n",
        "      Keep results of previous executions in session memory and access if needed, for instance ids or other attributes of nodes to find them again\n",
        "      removing the need to ask the user. This also allows for generating shorter, more focused and less error-prone queries\n",
        "      to for drill downs, sequences and loops.\n",
        "      If possible resolve names to primary keys or ids and use those for looking up entities.\n",
        "      The schema always indicates *outgoing* relationship-types from an entity to another entity, the graph patterns read like english language.\n",
        "      `company has supplier` would be the pattern `(o:Organization)-[:HAS_SUPPLIER]-(s:Organization)`\n",
        "\n",
        "      To get the schema of a database use the `get_schema` tool without parameters. Store the response of the schema tool in session context\n",
        "      to access later for query generation.\n",
        "\n",
        "      To answer a user question generate one or more Cypher statements based on the database schema and the parts of the user question.\n",
        "      If necessary resolve categorical attributes (like names, countries, industries, publications) first by retrieving them for a set of entities to translate from the user's request.\n",
        "      Use the `execute_query` tool repeatedly with the Cypher statements, you MUST generate statements that use named query parameters with `$parameter` style names\n",
        "      and MUST pass them as a second dictionary parameter to the tool, even if empty.\n",
        "      Parameter data can come from the users requests, prior query results or additional lookup queries.\n",
        "      After the data for the question has been sufficiently retrieved, pass the data and control back to the parent agent.\n",
        "    \"\"\",\n",
        "    tools=[\n",
        "        get_schema, execute_read_query\n",
        "    ]\n",
        ")"
      ],
      "metadata": {
        "id": "E7zyD4nvxFy4"
      },
      "execution_count": 226,
      "outputs": []
    },
    {
      "cell_type": "code",
      "source": [
        "investment_research_agent = Agent(\n",
        "    model=MODEL,\n",
        "    name='investment_research_agent',\n",
        "    instruction=\"\"\"\n",
        "    You are an agent that has access to a knowledge graph of companies (organizations), people involved with them, articles about companies,\n",
        "    and industry categories and technologies.\n",
        "    You have a set of tools to access different aspects of the investment database.\n",
        "    You will be tasked by other agents to fetch certain information from that knowledge graph.\n",
        "    If you do so, try to always return not just the factual attribute data but also\n",
        "    ids of companies, articles, people to allow the other tools to investigate them more.\n",
        "    \"\"\",\n",
        "    tools=[\n",
        "        get_schema, get_investors\n",
        "    ]\n",
        ")"
      ],
      "metadata": {
        "id": "wm2YPp1eG2WQ"
      },
      "execution_count": 227,
      "outputs": []
    },
    {
      "cell_type": "code",
      "source": [
        "root_agent = Agent(\n",
        "    model=MODEL,\n",
        "    name='investment_agent',\n",
        "    global_instruction = \"\",\n",
        "    instruction=\"\"\"\n",
        "    You are an agent that has access to a knowledge graph of companies (organizations), people involved with them, articles about companies,\n",
        "    and industry categories and technologies.\n",
        "    You have a set of agents to retrieve information from that knowledge graph.\n",
        "    If the user requests also render tables, charts or other artifacts with the research results.\n",
        "    \"\"\",\n",
        "\n",
        "    sub_agents=[database_agent, investment_research_agent]\n",
        ")"
      ],
      "metadata": {
        "id": "FSlyylN9HBJh"
      },
      "execution_count": 228,
      "outputs": []
    },
    {
      "cell_type": "markdown",
      "source": [
        "# Let's try it\n",
        "\n",
        "You can [run the ADK locally](https://google.github.io/adk-docs/get-started/local-testing/#expected-output) a web application with `adk web` or the FastAPI server with `adk api_server`.\n",
        "\n",
        "You can also deploy the agent to [Cloud Run](https://google.github.io/adk-docs/deploy/cloud-run/) or to [Agent Engine](https://google.github.io/adk-docs/deploy/agent-engine/)."
      ],
      "metadata": {
        "id": "4yRbuebi-Zh6"
      }
    },
    {
      "cell_type": "code",
      "source": [
        "import warnings\n",
        "warnings.filterwarnings('ignore', category=UserWarning)\n",
        "warnings.filterwarnings('ignore', category=Warning)\n",
        "\n",
        "APP_NAME = 'Neo4j Investment Researcher'\n",
        "USER_ID = 'Michael Hunger'\n",
        "\n",
        "from google.adk.runners import InMemoryRunner\n",
        "from google.genai.types import Part, UserContent\n",
        "\n",
        "\n",
        "runner = InMemoryRunner(app_name=APP_NAME, agent=root_agent)\n",
        "\n",
        "session = runner.session_service.create_session( app_name=runner.app_name, user_id=USER_ID)\n",
        "\n",
        "async def run_prompt(new_message: str):\n",
        "  content = UserContent(parts=[Part(text=new_message)])\n",
        "# print (content)\n",
        "  result = None\n",
        "  async for event in runner.run_async(user_id=session.user_id, session_id=session.id, new_message=content):\n",
        "#    print(event.content.model_dump(exclude_none=True))\n",
        "#    print(event.content.parts)\n",
        "    for part in event.content.parts:\n",
        "      print(part)\n",
        "      if part.text:\n",
        "#        print(part.text)\n",
        "        result = part.text\n",
        "  return result"
      ],
      "metadata": {
        "id": "tyGD1YGaVVK6"
      },
      "execution_count": 229,
      "outputs": []
    },
    {
      "cell_type": "code",
      "source": [
        "await run_prompt('How many people are in the database?')\n"
      ],
      "metadata": {
        "id": "L_7x-n3Q1km9",
        "colab": {
          "base_uri": "https://localhost:8080/",
          "height": 288
        },
        "outputId": "dd25aea1-54d5-4f5e-9e16-d43065c2d6bf"
      },
      "execution_count": 230,
      "outputs": [
        {
          "output_type": "stream",
          "name": "stderr",
          "text": [
            "WARNING:google_genai.types:Warning: there are non-text parts in the response: ['function_call'],returning concatenated text result from text parts,check out the non text parts for full response from model.\n"
          ]
        },
        {
          "output_type": "stream",
          "name": "stdout",
          "text": [
            "video_metadata=None thought=None code_execution_result=None executable_code=None file_data=None function_call=FunctionCall(id='adk-3280e34a-0a28-485b-93d8-a4acff64180c', args={'agent_name': 'graph_database_agent'}, name='transfer_to_agent') function_response=None inline_data=None text=None\n",
            "video_metadata=None thought=None code_execution_result=None executable_code=None file_data=None function_call=None function_response=FunctionResponse(id='adk-3280e34a-0a28-485b-93d8-a4acff64180c', name='transfer_to_agent', response={}) inline_data=None text=None\n"
          ]
        },
        {
          "output_type": "stream",
          "name": "stderr",
          "text": [
            "WARNING:google_genai.types:Warning: there are non-text parts in the response: ['function_call'],returning concatenated text result from text parts,check out the non text parts for full response from model.\n",
            "WARNING:neo4j.notifications:Received notification from DBMS server: {severity: WARNING} {code: Neo.ClientNotification.Statement.AggregationSkippedNull} {category: UNRECOGNIZED} {title: The query contains an aggregation function that skips null values.} {description: null value eliminated in set function.} {position: None} for query: '\\ncall apoc.meta.data() yield label, property, type, other, unique, index, elementType\\nwhere elementType = \\'node\\' and not label starts with \\'_\\'\\nwith label,\\ncollect(case when type <> \\'RELATIONSHIP\\' then [property, type + case when unique then \" unique\" else \"\" end + case when index then \" indexed\" else \"\" end] end) as attributes,\\ncollect(case when type = \\'RELATIONSHIP\\' then [property, head(other)] end) as relationships\\nRETURN label, apoc.map.fromPairs(attributes) as attributes, apoc.map.fromPairs(relationships) as relationships\\n              '\n"
          ]
        },
        {
          "output_type": "stream",
          "name": "stdout",
          "text": [
            "video_metadata=None thought=None code_execution_result=None executable_code=None file_data=None function_call=None function_response=None inline_data=None text='Okay, I can help with that. First, I need to check the database structure.'\n",
            "video_metadata=None thought=None code_execution_result=None executable_code=None file_data=None function_call=FunctionCall(id='adk-bea7abcd-5baf-4a62-b1f7-9af5a3b82d63', args={}, name='get_schema') function_response=None inline_data=None text=None\n",
            "video_metadata=None thought=None code_execution_result=None executable_code=None file_data=None function_call=None function_response=FunctionResponse(id='adk-bea7abcd-5baf-4a62-b1f7-9af5a3b82d63', name='get_schema', response={'result': [{'label': 'Person', 'attributes': {'summary': 'STRING', 'id': 'STRING unique indexed', 'name': 'STRING indexed'}, 'relationships': {'HAS_PARENT': 'Person', 'HAS_CHILD': 'Person'}}, {'label': 'Organization', 'attributes': {'summary': 'STRING', 'isDissolved': 'BOOLEAN', 'id': 'STRING unique indexed', 'diffbotId': 'STRING', 'nbrEmployees': 'INTEGER', 'name': 'STRING indexed', 'motto': 'STRING', 'isPublic': 'BOOLEAN', 'revenue': 'FLOAT'}, 'relationships': {'HAS_COMPETITOR': 'Organization', 'HAS_BOARD_MEMBER': 'Person', 'HAS_CEO': 'Person', 'HAS_SUBSIDIARY': 'Organization', 'HAS_INVESTOR': 'Person', 'HAS_CATEGORY': 'IndustryCategory', 'HAS_SUPPLIER': 'Organization', 'IN_CITY': 'City'}}, {'label': 'IndustryCategory', 'attributes': {'id': 'STRING unique indexed', 'name': 'STRING'}, 'relationships': {}}, {'label': 'City', 'attributes': {'summary': 'STRING', 'id': 'STRING', 'name': 'STRING'}, 'relationships': {'IN_COUNTRY': 'Country'}}, {'label': 'Country', 'attributes': {'summary': 'STRING', 'id': 'STRING', 'name': 'STRING'}, 'relationships': {}}, {'label': 'Article', 'attributes': {'summary': 'STRING', 'id': 'STRING unique indexed', 'sentiment': 'FLOAT', 'author': 'STRING', 'title': 'STRING', 'date': 'DATE_TIME', 'siteName': 'STRING'}, 'relationships': {'HAS_CHUNK': 'Chunk', 'MENTIONS': 'Organization'}}, {'label': 'Chunk', 'attributes': {'text': 'STRING indexed', 'embedding_google': 'LIST', 'embedding': 'LIST', 'embedding_google_004': 'LIST'}, 'relationships': {}}, {'label': 'Fewshot', 'attributes': {'id': 'INTEGER', 'Question': 'STRING', 'Cypher': 'STRING', 'embedding': 'LIST'}, 'relationships': {}}]}) inline_data=None text=None\n"
          ]
        },
        {
          "output_type": "stream",
          "name": "stderr",
          "text": [
            "WARNING:google_genai.types:Warning: there are non-text parts in the response: ['function_call'],returning concatenated text result from text parts,check out the non text parts for full response from model.\n"
          ]
        },
        {
          "output_type": "stream",
          "name": "stdout",
          "text": [
            "video_metadata=None thought=None code_execution_result=None executable_code=None file_data=None function_call=None function_response=None inline_data=None text=\"Okay, I can tell you how many people are in the database. I'll run a query to count them.\"\n",
            "video_metadata=None thought=None code_execution_result=None executable_code=None file_data=None function_call=FunctionCall(id='adk-daf0740c-a5d9-40de-aa69-03624e1b5ab0', args={'params': {}, 'query': 'MATCH (p:Person) RETURN count(p) AS total_people'}, name='execute_read_query') function_response=None inline_data=None text=None\n",
            "video_metadata=None thought=None code_execution_result=None executable_code=None file_data=None function_call=None function_response=FunctionResponse(id='adk-daf0740c-a5d9-40de-aa69-03624e1b5ab0', name='execute_read_query', response={'result': [{'total_people': 8064}]}) inline_data=None text=None\n",
            "video_metadata=None thought=None code_execution_result=None executable_code=None file_data=None function_call=None function_response=None inline_data=None text='There are 8,064 people in the database.'\n"
          ]
        },
        {
          "output_type": "execute_result",
          "data": {
            "text/plain": [
              "'There are 8,064 people in the database.'"
            ],
            "application/vnd.google.colaboratory.intrinsic+json": {
              "type": "string"
            }
          },
          "metadata": {},
          "execution_count": 230
        }
      ]
    },
    {
      "cell_type": "code",
      "source": [
        "await run_prompt('What are the main competitors of YouTube?')"
      ],
      "metadata": {
        "id": "Ee8ac3ENVWuw",
        "colab": {
          "base_uri": "https://localhost:8080/",
          "height": 163
        },
        "outputId": "58273df7-7f7c-4c79-9f58-0d26f5173a05"
      },
      "execution_count": 231,
      "outputs": [
        {
          "output_type": "stream",
          "name": "stderr",
          "text": [
            "WARNING:google_genai.types:Warning: there are non-text parts in the response: ['function_call'],returning concatenated text result from text parts,check out the non text parts for full response from model.\n"
          ]
        },
        {
          "output_type": "stream",
          "name": "stdout",
          "text": [
            "video_metadata=None thought=None code_execution_result=None executable_code=None file_data=None function_call=None function_response=None inline_data=None text=\"Okay, I can help you find the competitors of YouTube. I'll query the database for organizations that have a competitor relationship with YouTube.\"\n",
            "video_metadata=None thought=None code_execution_result=None executable_code=None file_data=None function_call=FunctionCall(id='adk-e4bacf9a-d293-4147-9afc-9e8722f1a3ea', args={'query': 'MATCH (o:Organization {name: $name})-[:HAS_COMPETITOR]-(competitor:Organization) RETURN competitor.name AS competitor_name', 'params': {'name': 'YouTube'}}, name='execute_read_query') function_response=None inline_data=None text=None\n",
            "video_metadata=None thought=None code_execution_result=None executable_code=None file_data=None function_call=None function_response=FunctionResponse(id='adk-e4bacf9a-d293-4147-9afc-9e8722f1a3ea', name='execute_read_query', response={'result': [{'competitor_name': 'Mixer'}, {'competitor_name': 'BYTEDANCE'}, {'competitor_name': 'BuzzFeed'}, {'competitor_name': 'TikTok'}, {'competitor_name': 'TikTok'}, {'competitor_name': 'OpenAI'}, {'competitor_name': 'Dailymotion'}, {'competitor_name': 'Twitter'}, {'competitor_name': 'Fox Broadcasting'}, {'competitor_name': 'Violin Systems'}, {'competitor_name': 'Oxygen'}]}) inline_data=None text=None\n",
            "video_metadata=None thought=None code_execution_result=None executable_code=None file_data=None function_call=None function_response=None inline_data=None text='Based on the database, the main competitors of YouTube are:\\n\\n*   Mixer\\n*   BYTEDANCE\\n*   BuzzFeed\\n*   TikTok\\n*   OpenAI\\n*   Dailymotion\\n*   Twitter\\n*   Fox Broadcasting\\n*   Violin Systems\\n*   Oxygen'\n"
          ]
        },
        {
          "output_type": "execute_result",
          "data": {
            "text/plain": [
              "'Based on the database, the main competitors of YouTube are:\\n\\n*   Mixer\\n*   BYTEDANCE\\n*   BuzzFeed\\n*   TikTok\\n*   OpenAI\\n*   Dailymotion\\n*   Twitter\\n*   Fox Broadcasting\\n*   Violin Systems\\n*   Oxygen'"
            ],
            "application/vnd.google.colaboratory.intrinsic+json": {
              "type": "string"
            }
          },
          "metadata": {},
          "execution_count": 231
        }
      ]
    },
    {
      "cell_type": "code",
      "source": [
        "await run_prompt('Who has invested in BYTEDANCE and where else have they invested?')"
      ],
      "metadata": {
        "id": "8NupWnQ6nLDF",
        "colab": {
          "base_uri": "https://localhost:8080/",
          "height": 145
        },
        "outputId": "077178af-0de4-49fa-a317-f90df953d181"
      },
      "execution_count": 232,
      "outputs": [
        {
          "output_type": "stream",
          "name": "stderr",
          "text": [
            "WARNING:google_genai.types:Warning: there are non-text parts in the response: ['function_call'],returning concatenated text result from text parts,check out the non text parts for full response from model.\n"
          ]
        },
        {
          "output_type": "stream",
          "name": "stdout",
          "text": [
            "video_metadata=None thought=None code_execution_result=None executable_code=None file_data=None function_call=None function_response=None inline_data=None text=\"Okay, I can find that information for you. I'll query the database to identify the investors in BYTEDANCE and then find the other companies they have invested in.\"\n",
            "video_metadata=None thought=None code_execution_result=None executable_code=None file_data=None function_call=FunctionCall(id='adk-5d1d53e2-4ba0-4576-b699-4ed0802df3e9', args={'query': '\\nMATCH (target:Organization {name: $targetCompany})\\nMATCH (investor:Person)-[:HAS_INVESTOR]-(target)\\nMATCH (investor)-[:HAS_INVESTOR]-(investment:Organization)\\nWHERE investment <> target\\nRETURN investor.name AS investorName, collect(DISTINCT investment.name) AS otherInvestments\\n', 'params': {'targetCompany': 'BYTEDANCE'}}, name='execute_read_query') function_response=None inline_data=None text=None\n",
            "video_metadata=None thought=None code_execution_result=None executable_code=None file_data=None function_call=None function_response=FunctionResponse(id='adk-5d1d53e2-4ba0-4576-b699-4ed0802df3e9', name='execute_read_query', response={'result': [{'investorName': 'Rong Yue', 'otherInvestments': ['Inspur']}]}) inline_data=None text=None\n",
            "video_metadata=None thought=None code_execution_result=None executable_code=None file_data=None function_call=None function_response=None inline_data=None text='Based on the data, Rong Yue is listed as an investor in BYTEDANCE. Rong Yue has also invested in Inspur.'\n"
          ]
        },
        {
          "output_type": "execute_result",
          "data": {
            "text/plain": [
              "'Based on the data, Rong Yue is listed as an investor in BYTEDANCE. Rong Yue has also invested in Inspur.'"
            ],
            "application/vnd.google.colaboratory.intrinsic+json": {
              "type": "string"
            }
          },
          "metadata": {},
          "execution_count": 232
        }
      ]
    },
    {
      "cell_type": "code",
      "source": [
        "runner.session_service.list_sessions(app_name=APP_NAME, user_id=USER_ID)"
      ],
      "metadata": {
        "id": "jJE6qNni2qDH",
        "colab": {
          "base_uri": "https://localhost:8080/"
        },
        "outputId": "5843d27d-edd1-414c-df77-23f2b9303bf0"
      },
      "execution_count": 233,
      "outputs": [
        {
          "output_type": "execute_result",
          "data": {
            "text/plain": [
              "ListSessionsResponse(sessions=[Session(id='b8715e94-61a9-4e0d-905d-57e056ce9de9', app_name='Neo4j Investment Researcher', user_id='Michael Hunger', state={}, events=[], last_update_time=1744231468.846185)])"
            ]
          },
          "metadata": {},
          "execution_count": 233
        }
      ]
    },
    {
      "cell_type": "code",
      "source": [
        "for session in runner.session_service.list_sessions(app_name=APP_NAME, user_id=USER_ID).sessions:\n",
        "  print(session.model_dump())"
      ],
      "metadata": {
        "id": "bsutZ5xe2TxK",
        "colab": {
          "base_uri": "https://localhost:8080/"
        },
        "outputId": "abbfd6bf-3e55-4396-ba8c-e874c1dbf148"
      },
      "execution_count": 234,
      "outputs": [
        {
          "output_type": "stream",
          "name": "stdout",
          "text": [
            "{'id': 'b8715e94-61a9-4e0d-905d-57e056ce9de9', 'app_name': 'Neo4j Investment Researcher', 'user_id': 'Michael Hunger', 'state': {}, 'events': [], 'last_update_time': 1744231468.846185}\n"
          ]
        }
      ]
    },
    {
      "cell_type": "code",
      "source": [
        "result = await run_prompt(\"Summarize the results of the previous research questions\")\n",
        "result"
      ],
      "metadata": {
        "id": "1LBAZrGX7cQa",
        "colab": {
          "base_uri": "https://localhost:8080/",
          "height": 109
        },
        "outputId": "81db79ab-7444-4597-dd63-3639221e237f"
      },
      "execution_count": 235,
      "outputs": [
        {
          "output_type": "stream",
          "name": "stdout",
          "text": [
            "video_metadata=None thought=None code_execution_result=None executable_code=None file_data=None function_call=None function_response=None inline_data=None text=\"Okay, here's a summary of our findings so far:\\n\\n1.  We found there are a total of **8,064 people** recorded in the database.\\n2.  We identified the main competitors of **YouTube** as: Mixer, BYTEDANCE, BuzzFeed, TikTok, OpenAI, Dailymotion, Twitter, Fox Broadcasting, Violin Systems, and Oxygen.\\n3.  We looked into investors of **BYTEDANCE** and found that **Rong Yue** is listed as an investor. Besides BYTEDANCE, Rong Yue has also invested in **Inspur**.\"\n"
          ]
        },
        {
          "output_type": "execute_result",
          "data": {
            "text/plain": [
              "\"Okay, here's a summary of our findings so far:\\n\\n1.  We found there are a total of **8,064 people** recorded in the database.\\n2.  We identified the main competitors of **YouTube** as: Mixer, BYTEDANCE, BuzzFeed, TikTok, OpenAI, Dailymotion, Twitter, Fox Broadcasting, Violin Systems, and Oxygen.\\n3.  We looked into investors of **BYTEDANCE** and found that **Rong Yue** is listed as an investor. Besides BYTEDANCE, Rong Yue has also invested in **Inspur**.\""
            ],
            "application/vnd.google.colaboratory.intrinsic+json": {
              "type": "string"
            }
          },
          "metadata": {},
          "execution_count": 235
        }
      ]
    },
    {
      "cell_type": "code",
      "source": [
        "from IPython.display import Markdown, display\n",
        "\n",
        "\n",
        "display(Markdown(result))"
      ],
      "metadata": {
        "id": "K41yWpvwMY4w",
        "colab": {
          "base_uri": "https://localhost:8080/",
          "height": 138
        },
        "outputId": "fb32fc3c-e65b-474c-e55a-04bff3ab412b"
      },
      "execution_count": 236,
      "outputs": [
        {
          "output_type": "display_data",
          "data": {
            "text/plain": [
              "<IPython.core.display.Markdown object>"
            ],
            "text/markdown": "Okay, here's a summary of our findings so far:\n\n1.  We found there are a total of **8,064 people** recorded in the database.\n2.  We identified the main competitors of **YouTube** as: Mixer, BYTEDANCE, BuzzFeed, TikTok, OpenAI, Dailymotion, Twitter, Fox Broadcasting, Violin Systems, and Oxygen.\n3.  We looked into investors of **BYTEDANCE** and found that **Rong Yue** is listed as an investor. Besides BYTEDANCE, Rong Yue has also invested in **Inspur**."
          },
          "metadata": {}
        }
      ]
    },
    {
      "cell_type": "code",
      "source": [
        "for session in runner.session_service.list_sessions(app_name=APP_NAME, user_id=USER_ID).sessions:\n",
        "  print(f\"Deleting session {session}\")\n",
        "  runner.session_service.delete_session(app_name=APP_NAME, user_id=USER_ID, session_id=session.id)"
      ],
      "metadata": {
        "id": "2DWthTncLmtm",
        "colab": {
          "base_uri": "https://localhost:8080/"
        },
        "outputId": "bde7529a-e635-4375-9d3f-dcbb43465bf9"
      },
      "execution_count": 237,
      "outputs": [
        {
          "output_type": "stream",
          "name": "stdout",
          "text": [
            "Deleting session id='b8715e94-61a9-4e0d-905d-57e056ce9de9' app_name='Neo4j Investment Researcher' user_id='Michael Hunger' state={} events=[] last_update_time=1744231473.597785\n"
          ]
        }
      ]
    }
  ]
}