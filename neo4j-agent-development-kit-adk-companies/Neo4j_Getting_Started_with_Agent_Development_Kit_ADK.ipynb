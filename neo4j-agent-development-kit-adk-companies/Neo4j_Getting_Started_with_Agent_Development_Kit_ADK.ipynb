{
  "nbformat": 4,
  "nbformat_minor": 0,
  "metadata": {
    "colab": {
      "provenance": []
    },
    "kernelspec": {
      "name": "python3",
      "display_name": "Python 3"
    },
    "language_info": {
      "name": "python"
    }
  },
  "cells": [
    {
      "cell_type": "markdown",
      "source": [
        "# Getting Started with the Agent Development Kit (ADK) with Neo4j\n",
        "\n",
        "This notebook shows how to use the Vertex AI Agent Framework to setup a multi-agent system integrating Neo4j.\n",
        "\n",
        "The Vertex AI ADK is a python-based SDK that empowers developers to build multi-agent applications with custom logic, tools, and integrations.\n",
        "\n",
        "In this notebook you will learn how to do the following:\n",
        "\n",
        "*  Install Agent Development Kit\n",
        "*  Define functions as tools\n",
        "*  Define a database agent and an investor relationship agent\n",
        "*  Create a \"Investment Research\" Multi-Agent\n",
        "\n",
        "\n",
        "## Learn more about Neo4j\n",
        "\n",
        "* https://neo4j.com/genai\n",
        "* https://neo4j.com/developer\n",
        "* https://graphrag.com\n",
        "* https://neo4j.com/labs/genai-ecosystem\n",
        "* [Neo4j and MCP Toolbox](https://neo4j.com/blog/developer/ai-agents-gen-ai-toolbox/)\n",
        "\n",
        "## Learn more about the ADK\n",
        "\n",
        "* [Launch Blog](https://cloud.google.com/blog/products/ai-machine-learning/build-and-manage-multi-system-agents-with-vertex-ai)\n",
        "* [Developer Blog](https://developers.googleblog.com/en/agent-development-kit-easy-to-build-multi-agent-applications/)\n",
        "* https://pypi.org/project/google-adk/\n",
        "* https://google.github.io/adk-docs/\n",
        "* https://github.com/google/adk-samples/\n",
        "* [LLM Agents](https://google.github.io/adk-docs/agents/llm-agents/#putting-it-together-example)\n",
        "* [Deploy to Agent Engine](https://google.github.io/adk-docs/deploy/agent-engine/)"
      ],
      "metadata": {
        "id": "3OqG2k_o_zmb"
      }
    },
    {
      "cell_type": "markdown",
      "source": [
        "## Company News Knowledge Graph\n",
        "\n",
        "Our example dataset will be a small subset (250k entities) of [diffbot's](https://diffbot.com/) global Knowledge Graph (50bn entities).\n",
        "\n",
        "It contains organizations, people in their leadership, locations and industries.\n",
        "\n",
        "Additionally articles mentioning these companies, which are chunked and indexed as vector embeddings.\n",
        "\n",
        "![](https://camo.githubusercontent.com/2ebaff2ceb74cd8af8f7ef8a5a4791ef92ea8f631c0fc41d828eb8ae9c7bf553/68747470733a2f2f692e696d6775722e636f6d2f6c574a5a5345652e706e67)\n",
        "\n",
        "You can access and query a read only version of that graph with the following credentials:\n",
        "\n",
        "* URL: https://demo.neo4jlabs.com:7473\n",
        "* Username: companies\n",
        "* Password: companies\n",
        "* Database: companies"
      ],
      "metadata": {
        "id": "1dCgx1ZVztBV"
      }
    },
    {
      "cell_type": "markdown",
      "source": [
        "# Authenticate\n",
        "You need this to download the SDK from GCS"
      ],
      "metadata": {
        "id": "lz5Yy_jXH-Ur"
      }
    },
    {
      "cell_type": "code",
      "execution_count": 1,
      "metadata": {
        "id": "chT-5K9yrrW9"
      },
      "outputs": [],
      "source": [
        "from google.colab import auth\n",
        "auth.authenticate_user()"
      ]
    },
    {
      "cell_type": "markdown",
      "source": [
        "# Install the Agent Development Kit"
      ],
      "metadata": {
        "id": "E29jokLY8VRH"
      }
    },
    {
      "cell_type": "code",
      "source": [
        "!pip3 install --upgrade --quiet google-adk neo4j-rust-ext"
      ],
      "metadata": {
        "collapsed": true,
        "id": "RNrh4GXq8bVn"
      },
      "execution_count": 2,
      "outputs": []
    },
    {
      "cell_type": "code",
      "source": [
        "import os\n",
        "import random\n",
        "import sys"
      ],
      "metadata": {
        "id": "34Gu29j2w4py"
      },
      "execution_count": 3,
      "outputs": []
    },
    {
      "cell_type": "markdown",
      "source": [
        "# Developer API or Vertex AI\n",
        "\n",
        "The ADK supports two APIs:\n",
        "\n",
        "* Google Gemini API (AI Studio)\n",
        "* Vertex AI Gemini API."
      ],
      "metadata": {
        "id": "osm6MztSEX2y"
      }
    },
    {
      "cell_type": "markdown",
      "source": [],
      "metadata": {
        "id": "xXhN34h_4hBr"
      }
    },
    {
      "cell_type": "code",
      "source": [
        "# Only run this block for ML Developer API. Use your own API key.\n",
        "import os\n",
        "\n",
        "GOOGLE_API_KEY = \"FILL YOUR API KEY\" #@param {type:\"string\"}\n",
        "\n",
        "os.environ[\"GOOGLE_GENAI_USE_VERTEXAI\"] = \"0\"\n",
        "os.environ[\"GOOGLE_API_KEY\"] = GOOGLE_API_KEY"
      ],
      "metadata": {
        "id": "va9nPjT186Xm"
      },
      "execution_count": 4,
      "outputs": []
    },
    {
      "cell_type": "code",
      "source": [
        "# Only run this block for Vertex AI API Use your own project / location.\n",
        "import os\n",
        "\n",
        "GOOGLE_CLOUD_PROJECT = \"vertex-ai-neo4j-extension\" #@param {type:\"string\"}\n",
        "\n",
        "os.environ[\"GOOGLE_GENAI_USE_VERTEXAI\"] = \"1\"\n",
        "os.environ[\"GOOGLE_CLOUD_PROJECT\"] = GOOGLE_CLOUD_PROJECT\n",
        "os.environ[\"GOOGLE_CLOUD_LOCATION\"] = \"us-central1\""
      ],
      "metadata": {
        "id": "aCLvbsLp89o7"
      },
      "execution_count": 5,
      "outputs": []
    },
    {
      "cell_type": "markdown",
      "source": [
        "# Neo4j Database Connectivity\n",
        "\n",
        "We define a small class `neo4jDatabase` that manages connecting to Neo4j and running read queries."
      ],
      "metadata": {
        "id": "1-rAplcsx22u"
      }
    },
    {
      "cell_type": "code",
      "source": [
        "import logging\n",
        "\n",
        "logger = logging.getLogger('agent_neo4j_cypher')\n",
        "logger.info(\"Initializing Database for tools\")\n",
        "\n",
        "import logging\n",
        "\n",
        "logging.getLogger(\"neo4j\").setLevel(logging.ERROR)\n",
        "logging.getLogger(\"google_genai\").setLevel(logging.ERROR)\n",
        "\n",
        "import warnings\n",
        "warnings.filterwarnings(\"ignore\", category=UserWarning, module=\"google_genai.types\")\n",
        "warnings.filterwarnings(\"ignore\", category=UserWarning, module=\"neo4j.notifications\")\n"
      ],
      "metadata": {
        "id": "sRtCKjAlhrEs"
      },
      "execution_count": 6,
      "outputs": []
    },
    {
      "cell_type": "code",
      "source": [
        "from neo4j import GraphDatabase\n",
        "from typing import Any\n",
        "import re\n",
        "\n",
        "class neo4jDatabase:\n",
        "    def __init__(self,  neo4j_uri: str, neo4j_username: str, neo4j_password: str):\n",
        "        \"\"\"Initialize connection to the Neo4j database\"\"\"\n",
        "        logger.debug(f\"Initializing database connection to {neo4j_uri}\")\n",
        "        d = GraphDatabase.driver(neo4j_uri, auth=(neo4j_username, neo4j_password))\n",
        "        d.verify_connectivity()\n",
        "        self.driver = d\n",
        "\n",
        "    def is_write_query(self, query: str) -> bool:\n",
        "      return re.search(r\"\\b(MERGE|CREATE|SET|DELETE|REMOVE|ADD)\\b\", query, re.IGNORECASE) is not None\n",
        "\n",
        "    def _execute_query(self, query: str, params: dict[str, Any] | None = None) -> list[dict[str, Any]]:\n",
        "        \"\"\"Execute a Cypher query and return results as a list of dictionaries\"\"\"\n",
        "        logger.debug(f\"Executing query: {query}\")\n",
        "        try:\n",
        "            if self.is_write_query(query):\n",
        "                logger.error(f\"Write query not supported {query}\")\n",
        "                raise \"Write Queries are not supported in this agent\"\n",
        "                # logger.debug(f\"Write query affected {counters}\")\n",
        "                # result = self.driver.execute_query(query, params)\n",
        "                # counters = vars(result.summary.counters)\n",
        "                # return [counters]\n",
        "            else:\n",
        "                result = self.driver.execute_query(query, params)\n",
        "                results = [dict(r) for r in result.records]\n",
        "                logger.debug(f\"Read query returned {len(results)} rows\")\n",
        "                return results\n",
        "        except Exception as e:\n",
        "            logger.error(f\"Database error executing query: {e}\\n{query}\")\n",
        "            raise"
      ],
      "metadata": {
        "id": "04x4PdPMgTtE"
      },
      "execution_count": 7,
      "outputs": []
    },
    {
      "cell_type": "code",
      "source": [
        "db = neo4jDatabase(\"neo4j+s://demo.neo4jlabs.com\",\"companies\",\"companies\")"
      ],
      "metadata": {
        "id": "1t5Nx3Yq2DKP"
      },
      "execution_count": 8,
      "outputs": []
    },
    {
      "cell_type": "code",
      "source": [
        "# Testing database connection\n",
        "db._execute_query(\"RETURN 1\")"
      ],
      "metadata": {
        "colab": {
          "base_uri": "https://localhost:8080/"
        },
        "id": "kSGPD5hxh2cw",
        "outputId": "9357864e-cb04-48f2-ab30-05df1f2f4216"
      },
      "execution_count": 9,
      "outputs": [
        {
          "output_type": "execute_result",
          "data": {
            "text/plain": [
              "[{'1': 1}]"
            ]
          },
          "metadata": {},
          "execution_count": 9
        }
      ]
    },
    {
      "cell_type": "markdown",
      "source": [
        "## Defining Functions for our Database Agent\n",
        "\n",
        "* get_schema - Retrieve Database Schema for the LLM\n",
        "* execute_read_query - Execute Cypher Read Query"
      ],
      "metadata": {
        "id": "01R-3Y492OxN"
      }
    },
    {
      "cell_type": "code",
      "source": [
        "def get_schema() -> list[dict[str,Any]]:\n",
        "  \"\"\"Get the schema of the database, returns node-types(labels) with their types and attributes and relationships between node-labels\n",
        "  Args: None\n",
        "  Returns:\n",
        "    list[dict[str,Any]]: A list of dictionaries representing the schema of the database\n",
        "    For example\n",
        "    ```\n",
        "    [{'label': 'Person','attributes': {'summary': 'STRING','id': 'STRING unique indexed', 'name': 'STRING indexed'},\n",
        "      'relationships': {'HAS_PARENT': 'Person', 'HAS_CHILD': 'Person'}}]\n",
        "    ```\n",
        "  \"\"\"\n",
        "  try:\n",
        "      results = db._execute_query(\n",
        "              \"\"\"\n",
        "call apoc.meta.data() yield label, property, type, other, unique, index, elementType\n",
        "where elementType = 'node' and not label starts with '_'\n",
        "with label,\n",
        "collect(case when type <> 'RELATIONSHIP' then [property, type + case when unique then \" unique\" else \"\" end + case when index then \" indexed\" else \"\" end] end) as attributes,\n",
        "collect(case when type = 'RELATIONSHIP' then [property, head(other)] end) as relationships\n",
        "RETURN label, apoc.map.fromPairs(attributes) as attributes, apoc.map.fromPairs(relationships) as relationships\n",
        "              \"\"\"\n",
        "          )\n",
        "      return results\n",
        "  except Exception as e:\n",
        "      return [{\"error\":str(e)}]"
      ],
      "metadata": {
        "id": "l1G9gtSDw8yt"
      },
      "execution_count": 10,
      "outputs": []
    },
    {
      "cell_type": "code",
      "source": [
        "# get_schema()"
      ],
      "metadata": {
        "collapsed": true,
        "id": "6qLJTGTXiLUK"
      },
      "execution_count": 11,
      "outputs": []
    },
    {
      "cell_type": "code",
      "source": [
        "def execute_read_query(query: str, params: dict[str, Any]) -> list[dict[str, Any]]:\n",
        "    \"\"\"\n",
        "    Execute a Neo4j Cypher query and return results as a list of dictionaries\n",
        "    Args:\n",
        "        query (str): The Cypher query to execute\n",
        "        params (dict[str, Any], optional): The parameters to pass to the query or None.\n",
        "    Raises:\n",
        "        Exception: If there is an error executing the query\n",
        "    Returns:\n",
        "        list[dict[str, Any]]: A list of dictionaries representing the query results\n",
        "    \"\"\"\n",
        "    try:\n",
        "        if params is None:\n",
        "            params = {}\n",
        "        results = db._execute_query(query, params)\n",
        "        return results\n",
        "    except Exception as e:\n",
        "        return [{\"error\":str(e)}]"
      ],
      "metadata": {
        "id": "J6CKK3-JiZUB"
      },
      "execution_count": 12,
      "outputs": []
    },
    {
      "cell_type": "code",
      "source": [
        "execute_read_query(\"RETURN 1\", None)"
      ],
      "metadata": {
        "colab": {
          "base_uri": "https://localhost:8080/"
        },
        "id": "Ho2K5-2t2zYZ",
        "outputId": "52834b64-fbe6-4361-83d8-50a779d851af"
      },
      "execution_count": 13,
      "outputs": [
        {
          "output_type": "execute_result",
          "data": {
            "text/plain": [
              "[{'1': 1}]"
            ]
          },
          "metadata": {},
          "execution_count": 13
        }
      ]
    },
    {
      "cell_type": "markdown",
      "source": [
        "## Defining Functions for our Investment Research Agent\n",
        "\n",
        "* get_schema - Retrieve Database Schema for the LLM\n",
        "* get_investors - Returns the investor in the company with this name or id."
      ],
      "metadata": {
        "id": "uMNZTdX_2r-L"
      }
    },
    {
      "cell_type": "code",
      "source": [
        "def get_investors(company: str) -> list[dict[str, Any]]:\n",
        "    \"\"\"\n",
        "    Returns the investor in the company with this name or id.\n",
        "    Args:\n",
        "        company (str): name of the company to find investors in\n",
        "    Returns:\n",
        "        list[dict[str, Any]]: A list of investor ids, names (and their types Organization or Person)\n",
        "    \"\"\"\n",
        "    try:\n",
        "        results = db._execute_query(\"\"\"\n",
        "        MATCH p=(o:Organization)<-[r:HAS_INVESTOR]-(i)\n",
        "        WHERE o.name=$company OR o.id=$company\n",
        "        RETURN i.id as id, i.name as name, head(labels(i)) as type\n",
        "        \"\"\", {\"company\":company})\n",
        "        return results\n",
        "    except Exception as e:\n",
        "        return [{\"error\":str(e)}]"
      ],
      "metadata": {
        "id": "iAqLn3AKoxkA"
      },
      "execution_count": 14,
      "outputs": []
    },
    {
      "cell_type": "code",
      "source": [
        "get_investors(\"Cloudflare\")"
      ],
      "metadata": {
        "colab": {
          "base_uri": "https://localhost:8080/"
        },
        "id": "znthqmOgimM4",
        "outputId": "afec5dc1-f10e-4b8d-f7fd-69b8e0010373"
      },
      "execution_count": 15,
      "outputs": [
        {
          "output_type": "execute_result",
          "data": {
            "text/plain": [
              "[{'id': 'EIBehdsQ4ME-yr8WK8tiC1w',\n",
              "  'name': 'Atlas Financial Group',\n",
              "  'type': 'Organization'},\n",
              " {'id': 'E-qHiBRsMNb2wOsqdSx2CfQ',\n",
              "  'name': 'Pelion Venture Partners',\n",
              "  'type': 'Organization'},\n",
              " {'id': 'E7obn7yRnMP6HjTQ4xOL6Dg', 'name': 'Venrock', 'type': 'Organization'},\n",
              " {'id': 'EfCgjTBhgNdyHkynILGypYg',\n",
              "  'name': 'New Enterprise Associates (NEA)',\n",
              "  'type': 'Organization'},\n",
              " {'id': 'EptIVnF6gNuOmOmAdBku7Uw',\n",
              "  'name': 'National Science Foundation (NSF)',\n",
              "  'type': 'Organization'},\n",
              " {'id': 'EdE6JQUuvMf6rTFv2qMJZqQ',\n",
              "  'name': 'Union Square Ventures',\n",
              "  'type': 'Organization'},\n",
              " {'id': 'E0aVDBaUAMSWgjywIrE4IwA',\n",
              "  'name': 'Greenspring Associates',\n",
              "  'type': 'Organization'},\n",
              " {'id': 'EThF8yM26NOmTZYsND2DqRQ',\n",
              "  'name': 'Microsoft Accelerator',\n",
              "  'type': 'Organization'},\n",
              " {'id': 'EUFq-3WlpNsq0pvfUYWXOEA', 'name': 'Google', 'type': 'Organization'},\n",
              " {'id': 'EmuHMD_KVM1OUKHkQE21s5A',\n",
              "  'name': 'Qualcomm Ventures',\n",
              "  'type': 'Organization'},\n",
              " {'id': 'E1XokcZs2NqGwLR47G92lFQ', 'name': 'Baidu', 'type': 'Organization'},\n",
              " {'id': 'E_z0hoZzCMJawSGOzcGJpEA',\n",
              "  'name': 'Fidelity Investments',\n",
              "  'type': 'Organization'},\n",
              " {'id': 'EQ0sXW3JHP1iVGViigR65Yg', 'name': 'CapitalG', 'type': 'Organization'},\n",
              " {'id': 'EKBYcQJj_PEGkleEDZnKQrg', 'name': 'ESO Fund', 'type': 'Organization'},\n",
              " {'id': 'Ef-HCFsSjOrGoIWH4dcdpXA',\n",
              "  'name': 'Franklin Templeton Investments',\n",
              "  'type': 'Organization'}]"
            ]
          },
          "metadata": {},
          "execution_count": 15
        }
      ]
    },
    {
      "cell_type": "markdown",
      "source": [
        "# Define our Agents\n",
        "\n",
        "An AI agent reasons, plans, and takes actions.\n",
        "\n",
        "The agent takes actions via access to **tools**, deciding how and when to invoke a tool. The agent also manages orchestration, creating a plan for answering a user query and adapting to responses that aren't quite correct.\n",
        "\n",
        "Agent **tools** can be Python functions, or Vertex AI Extensions, or MCP Servers.\n",
        "\n",
        "## Creating the Database Agent.\n",
        "\n",
        "* display name\n",
        "* instructions - detailed, making it clear exactly how the agent should behave and which tools to use when\n",
        "* tools\n",
        "\n"
      ],
      "metadata": {
        "id": "meW7SNrTyCgn"
      }
    },
    {
      "cell_type": "code",
      "source": [
        "from google.adk.agents import Agent"
      ],
      "metadata": {
        "id": "yI9pmcREDKNK"
      },
      "execution_count": 16,
      "outputs": []
    },
    {
      "cell_type": "code",
      "source": [
        "MODEL=\"gemini-2.5-pro-exp-03-25\""
      ],
      "metadata": {
        "id": "exrr_oCNLxqZ"
      },
      "execution_count": 17,
      "outputs": []
    },
    {
      "cell_type": "code",
      "source": [
        "database_agent = Agent(\n",
        "    model=MODEL,\n",
        "    name='graph_database_agent',\n",
        "    instruction=\"\"\"\n",
        "      You are an Neo4j graph database and Cypher query expert, that must use the database schema with a user question and repeatedly generate valid cypher statements\n",
        "      to execute on the database and answer the user's questions in a friendly manner in natural language.\n",
        "      If in doubt the database schema is always prioritized when it comes to nodes-types (labels) or relationship-types or property names, never take the user's input at face value.\n",
        "      If the user requests also render tables, charts or other artifacts with the query results.\n",
        "      Always validate the correct node-labels at the end of a relationship based on the schema.\n",
        "\n",
        "      If a query fails or doesn't return data, use the error response 3 times to try to fix the generated query and re-run it, don't return the error to the user.\n",
        "      If you cannot fix the query, explain the issue to the user and apologize.\n",
        "      *You are prohibited* from using directional arrows (like -> or <-) in the graph patterns, always use undirected patterns like `(:Label)-[:TYPE]-(:Label)`.\n",
        "      You get negative points for using directional arrays in patterns.\n",
        "\n",
        "      Fetch the graph database schema first and keep it in session memory to access later for query generation.\n",
        "      Keep results of previous executions in session memory and access if needed, for instance ids or other attributes of nodes to find them again\n",
        "      removing the need to ask the user. This also allows for generating shorter, more focused and less error-prone queries\n",
        "      to for drill downs, sequences and loops.\n",
        "      If possible resolve names to primary keys or ids and use those for looking up entities.\n",
        "      The schema always indicates *outgoing* relationship-types from an entity to another entity, the graph patterns read like english language.\n",
        "      `company has supplier` would be the pattern `(o:Organization)-[:HAS_SUPPLIER]-(s:Organization)`\n",
        "\n",
        "      To get the schema of a database use the `get_schema` tool without parameters. Store the response of the schema tool in session context\n",
        "      to access later for query generation.\n",
        "\n",
        "      To answer a user question generate one or more Cypher statements based on the database schema and the parts of the user question.\n",
        "      If necessary resolve categorical attributes (like names, countries, industries, publications) first by retrieving them for a set of entities to translate from the user's request.\n",
        "      Use the `execute_query` tool repeatedly with the Cypher statements, you MUST generate statements that use named query parameters with `$parameter` style names\n",
        "      and MUST pass them as a second dictionary parameter to the tool, even if empty.\n",
        "      Parameter data can come from the users requests, prior query results or additional lookup queries.\n",
        "      After the data for the question has been sufficiently retrieved, pass the data and control back to the parent agent.\n",
        "    \"\"\",\n",
        "    tools=[\n",
        "        get_schema, execute_read_query\n",
        "    ]\n",
        ")"
      ],
      "metadata": {
        "id": "E7zyD4nvxFy4"
      },
      "execution_count": 40,
      "outputs": []
    },
    {
      "cell_type": "code",
      "source": [
        "investor_research_agent = Agent(\n",
        "    model=MODEL,\n",
        "    name='investment_research_agent',\n",
        "    instruction=\"\"\"\n",
        "    You are an agent that has access to a database of investment relationships between companies and indivduals.\n",
        "    Use the get_investors tool when asked to find the investors of a company by id and name.\n",
        "    If you do so, try to always return not just the factual attribute data but also\n",
        "    investor ids to allow the other agents to investigate them more.\n",
        "    \"\"\",\n",
        "    tools=[\n",
        "        get_schema, get_investors\n",
        "    ]\n",
        ")"
      ],
      "metadata": {
        "id": "wm2YPp1eG2WQ"
      },
      "execution_count": 41,
      "outputs": []
    },
    {
      "cell_type": "markdown",
      "source": [
        "## Model Context Protocol (MCP) with MCP Toolbox\n",
        "\n",
        "With the [Neo4j Integration in Google's MCP Toolbox](https://googleapis.github.io/genai-toolbox/resources/tools/neo4j-cypher/) we can quickly declaratively define sources and tools backed by database queries and deploy that toolset to Cloud Run.\n",
        "\n",
        "Our [tool definitions are here](https://github.com/neo4j-examples/neo4j-gcp-vertex-ai-langchain/blob/main/toolbox-companies/tools.yaml) for these tools:\n",
        "\n",
        "* `industries` - List of Industry names\n",
        "* `companies` - List of Companies (id, name, summary) by fulltext search\n",
        "* `companies_in_industry` - Companies (id, name, summary) in a given industry by industry\n",
        "* `articles_in_month` - List of Articles (id, author, title, date, sentiment) in a month timeframe from the given date * (yyyy-mm-dd)\n",
        "* `article` - Single Article details (id, author, title, date, sentiment, site, summary, content) by article id\n",
        "* `companies_in_articles` - Companies (id, name, summary) mentioned in articles by list of article ids\n",
        "* `people_at_company` - People (name, role) associated with a company by company id\n"
      ],
      "metadata": {
        "id": "p0vVspngm2aV"
      }
    },
    {
      "cell_type": "markdown",
      "source": [
        "**Now** we can use the ADK's new MCP wrappers which exist for STDIO and HTTP/SSE MCP servers to make these MCP Server tools available to one of our agents."
      ],
      "metadata": {
        "id": "FoP6Zt-Jn3Kq"
      }
    },
    {
      "cell_type": "code",
      "source": [
        "from google.adk.tools.mcp_tool.mcp_toolset import MCPToolset, SseServerParams"
      ],
      "metadata": {
        "id": "3iDAYhbhje9E"
      },
      "execution_count": 39,
      "outputs": []
    },
    {
      "cell_type": "code",
      "source": [
        "async def load_tools():\n",
        "    async with MCPToolset( connection_params=SseServerParams(url=\"https://toolbox-990868019953.us-central1.run.app/mcp/sse\")) as toolset:\n",
        "      tools = await toolset.load_tools()\n",
        "    return tools"
      ],
      "metadata": {
        "id": "S4qgJADRju57"
      },
      "execution_count": 42,
      "outputs": []
    },
    {
      "cell_type": "code",
      "source": [
        "tools = await load_tools()\n",
        "tools.extend([get_schema])"
      ],
      "metadata": {
        "id": "SSua4StQlZY6"
      },
      "execution_count": 43,
      "outputs": []
    },
    {
      "cell_type": "code",
      "source": [
        "investment_research_agent = Agent(\n",
        "    model=MODEL,\n",
        "    name='investment_research_agent',\n",
        "    instruction=\"\"\"\n",
        "    You are an agent that has access to a knowledge graph of companies (organizations), people involved with them, articles about companies,\n",
        "    and industry categories and technologies.\n",
        "    You have a set of tools to access different aspects of the investment database.\n",
        "    You will be tasked by other agents to fetch certain information from that knowledge graph.\n",
        "    If you do so, try to always return not just the factual attribute data but also\n",
        "    ids of companies, articles, people to allow the other tools to investigate them more.\n",
        "    \"\"\",\n",
        "    tools=tools\n",
        ")"
      ],
      "metadata": {
        "id": "OOlUyUxxjl8a"
      },
      "execution_count": 44,
      "outputs": []
    },
    {
      "cell_type": "code",
      "source": [
        "root_agent = Agent(\n",
        "    model=MODEL,\n",
        "    name='investment_agent',\n",
        "    global_instruction = \"\",\n",
        "    instruction=\"\"\"\n",
        "    You are an agent that has access to a knowledge graph of companies (organizations), people involved with them, articles about companies,\n",
        "    and industry categories and technologies.\n",
        "    You have a set of agents to retrieve information from that knowledge graph, if possible prefer the research agents over the database agent.\n",
        "    If the user requests it, do render tables, charts or other artifacts with the research results.\n",
        "    \"\"\",\n",
        "\n",
        "    sub_agents=[investor_research_agent, investment_research_agent, database_agent]\n",
        ")"
      ],
      "metadata": {
        "id": "FSlyylN9HBJh"
      },
      "execution_count": 45,
      "outputs": []
    },
    {
      "cell_type": "markdown",
      "source": [
        "# Let's try it\n",
        "\n",
        "You can [run the ADK locally](https://google.github.io/adk-docs/get-started/local-testing/#expected-output) a web application with `adk web` or the FastAPI server with `adk api_server`.\n",
        "\n",
        "You can also deploy the agent to [Cloud Run](https://google.github.io/adk-docs/deploy/cloud-run/) or to [Agent Engine](https://google.github.io/adk-docs/deploy/agent-engine/)."
      ],
      "metadata": {
        "id": "4yRbuebi-Zh6"
      }
    },
    {
      "cell_type": "code",
      "source": [
        "APP_NAME = 'Neo4j Investment Researcher'\n",
        "USER_ID = 'Michael Hunger'\n",
        "\n",
        "from google.adk.runners import InMemoryRunner\n",
        "from google.genai.types import Part, UserContent\n",
        "\n",
        "\n",
        "runner = InMemoryRunner(app_name=APP_NAME, agent=root_agent)\n",
        "\n",
        "session = runner.session_service.create_session( app_name=runner.app_name, user_id=USER_ID)\n",
        "\n",
        "async def run_prompt(new_message: str):\n",
        "  content = UserContent(parts=[Part(text=new_message)])\n",
        "# print (content)\n",
        "  result = None\n",
        "  async for event in runner.run_async(user_id=session.user_id, session_id=session.id, new_message=content):\n",
        "#    print(event.content.model_dump(exclude_none=True))\n",
        "#    print(event.content.parts)\n",
        "    for part in event.content.parts:\n",
        "      print(part.text, part.function_call, part.function_response)\n",
        "      if part.text:\n",
        "#        print(part.text)\n",
        "        result = part.text\n",
        "  return result"
      ],
      "metadata": {
        "id": "tyGD1YGaVVK6"
      },
      "execution_count": 46,
      "outputs": []
    },
    {
      "cell_type": "code",
      "source": [
        "await run_prompt('How many people are in the database?')\n"
      ],
      "metadata": {
        "id": "L_7x-n3Q1km9",
        "colab": {
          "base_uri": "https://localhost:8080/",
          "height": 288
        },
        "outputId": "3d4496d4-3f0e-4a1b-ab60-ab26246ff54a"
      },
      "execution_count": 47,
      "outputs": [
        {
          "output_type": "stream",
          "name": "stdout",
          "text": [
            "None id='adk-af40c5f1-b747-4b01-a3ea-c1c7521c2ace' args={'agent_name': 'graph_database_agent'} name='transfer_to_agent' None\n",
            "None None id='adk-af40c5f1-b747-4b01-a3ea-c1c7521c2ace' name='transfer_to_agent' response={}\n",
            "Okay, I can help with that. First, I need to check the database schema to see how people are represented.\n",
            "\n",
            " None None\n",
            "None id='adk-03f904c5-cb65-47f5-9cda-a132eb543dfd' args={} name='get_schema' None\n",
            "None None id='adk-03f904c5-cb65-47f5-9cda-a132eb543dfd' name='get_schema' response={'result': [{'label': 'Person', 'attributes': {'summary': 'STRING', 'id': 'STRING unique indexed', 'name': 'STRING indexed'}, 'relationships': {'HAS_PARENT': 'Person', 'HAS_CHILD': 'Person'}}, {'label': 'Organization', 'attributes': {'summary': 'STRING', 'isDissolved': 'BOOLEAN', 'id': 'STRING unique indexed', 'diffbotId': 'STRING', 'nbrEmployees': 'INTEGER', 'name': 'STRING indexed', 'isPublic': 'BOOLEAN', 'motto': 'STRING', 'revenue': 'FLOAT'}, 'relationships': {'HAS_COMPETITOR': 'Organization', 'HAS_BOARD_MEMBER': 'Person', 'HAS_CEO': 'Person', 'HAS_SUBSIDIARY': 'Organization', 'HAS_INVESTOR': 'Person', 'HAS_CATEGORY': 'IndustryCategory', 'HAS_SUPPLIER': 'Organization', 'IN_CITY': 'City'}}, {'label': 'IndustryCategory', 'attributes': {'id': 'STRING unique indexed', 'name': 'STRING'}, 'relationships': {}}, {'label': 'City', 'attributes': {'summary': 'STRING', 'id': 'STRING', 'name': 'STRING'}, 'relationships': {'IN_COUNTRY': 'Country'}}, {'label': 'Country', 'attributes': {'summary': 'STRING', 'id': 'STRING', 'name': 'STRING'}, 'relationships': {}}, {'label': 'Article', 'attributes': {'summary': 'STRING', 'id': 'STRING unique indexed', 'sentiment': 'FLOAT', 'author': 'STRING', 'title': 'STRING', 'date': 'DATE_TIME', 'siteName': 'STRING'}, 'relationships': {'HAS_CHUNK': 'Chunk', 'MENTIONS': 'Organization'}}, {'label': 'Chunk', 'attributes': {'text': 'STRING indexed', 'embedding_google': 'LIST', 'embedding': 'LIST', 'embedding_google_004': 'LIST'}, 'relationships': {}}, {'label': 'Fewshot', 'attributes': {'id': 'INTEGER', 'Question': 'STRING', 'Cypher': 'STRING', 'embedding': 'LIST'}, 'relationships': {}}]}\n",
            "Okay, the schema shows that people are represented by the `Person` label. I can now count how many `Person` nodes exist in the database.\n",
            "\n",
            " None None\n",
            "None id='adk-52b98b75-3766-4d1c-a949-05720fd03401' args={'query': 'MATCH (p:Person) RETURN count(p) AS numberOfPeople', 'params': {}} name='execute_read_query' None\n",
            "None None id='adk-52b98b75-3766-4d1c-a949-05720fd03401' name='execute_read_query' response={'result': [{'numberOfPeople': 8064}]}\n",
            "There are 8,064 people in the database. None None\n"
          ]
        },
        {
          "output_type": "execute_result",
          "data": {
            "text/plain": [
              "'There are 8,064 people in the database.'"
            ],
            "application/vnd.google.colaboratory.intrinsic+json": {
              "type": "string"
            }
          },
          "metadata": {},
          "execution_count": 47
        }
      ]
    },
    {
      "cell_type": "code",
      "source": [
        "await run_prompt('What are the main competitors of YouTube?')"
      ],
      "metadata": {
        "id": "Ee8ac3ENVWuw",
        "colab": {
          "base_uri": "https://localhost:8080/",
          "height": 377
        },
        "outputId": "ebd9bab2-7cda-4b2f-e800-6b1d3c615286"
      },
      "execution_count": 48,
      "outputs": [
        {
          "output_type": "stream",
          "name": "stdout",
          "text": [
            "Okay, I can look that up for you. First, I need to find YouTube in the database and then check for its competitors using the `HAS_COMPETITOR` relationship.\n",
            "\n",
            " None None\n",
            "None id='adk-33b02783-a9b5-4378-b4a6-2989b0700052' args={'params': {'name': 'YouTube'}, 'query': 'MATCH (o:Organization {name: $name})-[:HAS_COMPETITOR]-(c:Organization) RETURN c.name AS competitorName'} name='execute_read_query' None\n",
            "None None id='adk-33b02783-a9b5-4378-b4a6-2989b0700052' name='execute_read_query' response={'result': [{'competitorName': 'Mixer'}, {'competitorName': 'BYTEDANCE'}, {'competitorName': 'BuzzFeed'}, {'competitorName': 'TikTok'}, {'competitorName': 'TikTok'}, {'competitorName': 'OpenAI'}, {'competitorName': 'Dailymotion'}, {'competitorName': 'Twitter'}, {'competitorName': 'Fox Broadcasting'}, {'competitorName': 'Violin Systems'}, {'competitorName': 'Oxygen'}]}\n",
            "Okay, I found the main competitors for YouTube listed in the database. They are:\n",
            "\n",
            "*   Mixer\n",
            "*   BYTEDANCE\n",
            "*   BuzzFeed\n",
            "*   TikTok\n",
            "*   OpenAI\n",
            "*   Dailymotion\n",
            "*   Twitter\n",
            "*   Fox Broadcasting\n",
            "*   Violin Systems\n",
            "*   Oxygen None None\n"
          ]
        },
        {
          "output_type": "execute_result",
          "data": {
            "text/plain": [
              "'Okay, I found the main competitors for YouTube listed in the database. They are:\\n\\n*   Mixer\\n*   BYTEDANCE\\n*   BuzzFeed\\n*   TikTok\\n*   OpenAI\\n*   Dailymotion\\n*   Twitter\\n*   Fox Broadcasting\\n*   Violin Systems\\n*   Oxygen'"
            ],
            "application/vnd.google.colaboratory.intrinsic+json": {
              "type": "string"
            }
          },
          "metadata": {},
          "execution_count": 48
        }
      ]
    },
    {
      "cell_type": "code",
      "source": [
        "await run_prompt('What are 5 companies mentioned in articles from January 2023 with good sentiment and who are the people working there?')"
      ],
      "metadata": {
        "colab": {
          "base_uri": "https://localhost:8080/",
          "height": 895
        },
        "id": "Hbx7-67HmOHl",
        "outputId": "406e650e-ea5f-4d06-8fc9-46bb8af2ea6a"
      },
      "execution_count": 38,
      "outputs": [
        {
          "output_type": "stream",
          "name": "stdout",
          "text": [
            "Okay, I can search for that. I will look for articles published between January 1st, 2023, and January 31st, 2023, with a positive sentiment (let's define \"good\" as sentiment greater than 0.5). Then, I'll identify up to 5 distinct companies mentioned in those articles and find the names of people associated with them (CEOs and Board Members based on the schema).\n",
            "\n",
            " None None\n",
            "None id='adk-cf6a89ef-5936-4ace-929c-c2dd8dd89aed' args={'query': '\\n    MATCH (a:Article)-[:MENTIONS]-(o:Organization)\\n    WHERE a.date >= date($startDate) AND a.date < date($endDate) AND a.sentiment > $minSentiment\\n    WITH DISTINCT o\\n    LIMIT 5\\n    OPTIONAL MATCH (o)-[:HAS_CEO]-(ceo:Person)\\n    OPTIONAL MATCH (o)-[:HAS_BOARD_MEMBER]-(bm:Person)\\n    WITH o, collect(DISTINCT ceo.name) + collect(DISTINCT bm.name) AS peopleNames \\n    WITH o.name AS companyName, [name IN peopleNames WHERE name IS NOT NULL] AS associatedPeople\\n    RETURN companyName, associatedPeople\\n    ', 'params': {'endDate': '2023-02-01', 'minSentiment': 0.5, 'startDate': '2023-01-01'}} name='execute_read_query' None\n",
            "None None id='adk-cf6a89ef-5936-4ace-929c-c2dd8dd89aed' name='execute_read_query' response={}\n"
          ]
        },
        {
          "output_type": "stream",
          "name": "stderr",
          "text": [
            "ERROR:agent_neo4j_cypher:Database error executing query: {code: Neo.ClientError.Statement.SyntaxError} {message: Invalid use of DISTINCT with function 'कलेक्ट' (line 9, column 13 (offset: 379))\n",
            "\"    WITH o, कलेक्ट(DISTINCT ceo) + कलेक्ट(DISTINCT bm) AS people\"\n",
            "             ^}\n",
            "\n",
            "    MATCH (a:Article)-[:MENTIONS]-(o:Organization)\n",
            "    WHERE a.date >= datetime($startDate) AND a.date < datetime($endDate) AND a.sentiment > $lowerSentiment\n",
            "    WITH DISTINCT o\n",
            "    LIMIT 5\n",
            "    OPTIONAL MATCH (o)-[:HAS_CEO]-(ceo:Person)\n",
            "    OPTIONAL MATCH (o)-[:HAS_BOARD_MEMBER]-(bm:Person)\n",
            "    // Collect all people nodes first, then extract names, handling nulls\n",
            "    WITH o, कलेक्ट(DISTINCT ceo) + कलेक्ट(DISTINCT bm) AS people\n",
            "    WITH o.name AS companyName, [p IN people WHERE p IS NOT NULL | p.name] AS associatedPeople\n",
            "    RETURN companyName, associatedPeople\n",
            "    \n"
          ]
        },
        {
          "output_type": "stream",
          "name": "stdout",
          "text": [
            "Okay, I'll try adjusting the query. Perhaps the sentiment threshold was a bit too high, or the date comparison needs adjustment. I'll lower the sentiment threshold slightly and ensure the date/time comparison is correct.\n",
            "\n",
            " None None\n",
            "None id='adk-d912a8d5-0d21-4fb2-ab84-3cb23eb4ba6e' args={'params': {'startDate': '2023-01-01T00:00:00', 'lowerSentiment': 0.3, 'endDate': '2023-02-01T00:00:00'}, 'query': '\\n    MATCH (a:Article)-[:MENTIONS]-(o:Organization)\\n    WHERE a.date >= datetime($startDate) AND a.date < datetime($endDate) AND a.sentiment > $lowerSentiment\\n    WITH DISTINCT o\\n    LIMIT 5\\n    OPTIONAL MATCH (o)-[:HAS_CEO]-(ceo:Person)\\n    OPTIONAL MATCH (o)-[:HAS_BOARD_MEMBER]-(bm:Person)\\n    // Collect all people nodes first, then extract names, handling nulls\\n    WITH o, कलेक्ट(DISTINCT ceo) + कलेक्ट(DISTINCT bm) AS people\\n    WITH o.name AS companyName, [p IN people WHERE p IS NOT NULL | p.name] AS associatedPeople\\n    RETURN companyName, associatedPeople\\n    '} name='execute_read_query' None\n",
            "None None id='adk-d912a8d5-0d21-4fb2-ab84-3cb23eb4ba6e' name='execute_read_query' response={'result': [{'error': '{code: Neo.ClientError.Statement.SyntaxError} {message: Invalid use of DISTINCT with function \\'कलेक्ट\\' (line 9, column 13 (offset: 379))\\n\"    WITH o, कलेक्ट(DISTINCT ceo) + कलेक्ट(DISTINCT bm) AS people\"\\n             ^}'}]}\n",
            "It seems there was an issue with the previous queries, possibly related to how the names were collected or the date/time format. I'll try again, adjusting the query to collect CEO and board member names separately before combining them, and ensuring the date/time comparison is correct.\n",
            "\n",
            " None None\n",
            "None id='adk-00e13c39-b0ac-4b55-8257-01bf3396310f' args={'params': {'endDate': '2023-02-01T00:00:00', 'lowerSentiment': 0.3, 'startDate': '2023-01-01T00:00:00'}, 'query': '\\n    MATCH (a:Article)-[:MENTIONS]-(o:Organization)\\n    WHERE a.date >= datetime($startDate) AND a.date < datetime($endDate) AND a.sentiment > $lowerSentiment\\n    WITH DISTINCT o\\n    LIMIT 5\\n    OPTIONAL MATCH (o)-[:HAS_CEO]-(ceo:Person)\\n    OPTIONAL MATCH (o)-[:HAS_BOARD_MEMBER]-(bm:Person)\\n    WITH o, collect(DISTINCT ceo.name) AS ceoNames, collect(DISTINCT bm.name) AS bmNames\\n    WITH o.name AS companyName, [name IN ceoNames + bmNames WHERE name IS NOT NULL] AS associatedPeople\\n    RETURN companyName, associatedPeople\\n    '} name='execute_read_query' None\n",
            "None None id='adk-00e13c39-b0ac-4b55-8257-01bf3396310f' name='execute_read_query' response={'result': [{'companyName': 'BackBox', 'associatedPeople': ['Andrew Kahl', 'Chris Pacitti']}, {'companyName': 'Pocket App', 'associatedPeople': ['Paul Swaddle']}, {'companyName': 'Mozilla', 'associatedPeople': []}, {'companyName': 'Wipro', 'associatedPeople': []}, {'companyName': 'Wipro', 'associatedPeople': []}]}\n",
            "Okay, here are 5 companies mentioned in articles with positive sentiment (greater than 0.3) between January 1st and January 31st, 2023, along with people associated with them (CEOs or Board Members found in the database):\n",
            "\n",
            "1.  **BackBox:**\n",
            "    *   Andrew Kahl\n",
            "    *   Chris Pacitti\n",
            "2.  **Pocket App:**\n",
            "    *   Paul Swaddle\n",
            "3.  **Mozilla:**\n",
            "    *   (No associated people found in the database)\n",
            "4.  **Wipro:**\n",
            "    *   (No associated people found in the database)\n",
            "\n",
            "It seems Wipro appeared twice in the results, but it's the same company. For Mozilla and Wipro, the database did not have information linking specific CEOs or Board Members to them based on the relationships I checked (`HAS_CEO`, `HAS_BOARD_MEMBER`). None None\n"
          ]
        },
        {
          "output_type": "execute_result",
          "data": {
            "text/plain": [
              "\"Okay, here are 5 companies mentioned in articles with positive sentiment (greater than 0.3) between January 1st and January 31st, 2023, along with people associated with them (CEOs or Board Members found in the database):\\n\\n1.  **BackBox:**\\n    *   Andrew Kahl\\n    *   Chris Pacitti\\n2.  **Pocket App:**\\n    *   Paul Swaddle\\n3.  **Mozilla:**\\n    *   (No associated people found in the database)\\n4.  **Wipro:**\\n    *   (No associated people found in the database)\\n\\nIt seems Wipro appeared twice in the results, but it's the same company. For Mozilla and Wipro, the database did not have information linking specific CEOs or Board Members to them based on the relationships I checked (`HAS_CEO`, `HAS_BOARD_MEMBER`).\""
            ],
            "application/vnd.google.colaboratory.intrinsic+json": {
              "type": "string"
            }
          },
          "metadata": {},
          "execution_count": 38
        }
      ]
    },
    {
      "cell_type": "code",
      "source": [
        "await run_prompt('Who has invested in BYTEDANCE and where else have they invested?')"
      ],
      "metadata": {
        "id": "8NupWnQ6nLDF",
        "colab": {
          "base_uri": "https://localhost:8080/",
          "height": 395
        },
        "outputId": "63b4fc17-41f9-4a04-9b28-e87fca80a5be"
      },
      "execution_count": 49,
      "outputs": [
        {
          "output_type": "stream",
          "name": "stdout",
          "text": [
            "Okay, I can help you with that request. I'll first find the investors for BYTEDANCE and then look for other companies those same investors have put money into.\n",
            "\n",
            "Let's find the investors for BYTEDANCE first.\n",
            "\n",
            " None None\n",
            "None id='adk-ba9ce6de-2afd-4956-9347-6d549d655cf1' args={'params': {'name': 'BYTEDANCE'}, 'query': 'MATCH (o:Organization {name: $name})-[:HAS_INVESTOR]-(investor:Person) RETURN investor.name AS investorName, investor.id AS investorId'} name='execute_read_query' None\n",
            "None None id='adk-ba9ce6de-2afd-4956-9347-6d549d655cf1' name='execute_read_query' response={'result': [{'investorName': 'Rong Yue', 'investorId': 'EHwJNEbHuN9S0OtngP6cFKQ'}, {'investorName': 'Wendi Murdoch', 'investorId': 'En8xLxQ3oNnWcR6ZwsWol3w'}]}\n",
            "Okay, I found two investors for BYTEDANCE: Rong Yue and Wendi Murdoch.\n",
            "\n",
            "Now, let's see where else these individuals have invested.\n",
            "\n",
            " None None\n",
            "None id='adk-15b1e3d1-0af0-4f88-8c62-de879a43f444' args={'query': 'MATCH (investor:Person)-[:HAS_INVESTOR]-(otherCompany:Organization)\\nWHERE investor.id IN $investorIds AND otherCompany.name <> $excludeName\\nRETURN investor.name AS investorName, collect(distinct otherCompany.name) AS otherInvestments', 'params': {'excludeName': 'BYTEDANCE', 'investorIds': ['EHwJNEbHuN9S0OtngP6cFKQ', 'En8xLxQ3oNnWcR6ZwsWol3w']}} name='execute_read_query' None\n",
            "None None id='adk-15b1e3d1-0af0-4f88-8c62-de879a43f444' name='execute_read_query' response={'result': [{'investorName': 'Rong Yue', 'otherInvestments': ['Inspur']}]}\n",
            "Okay, I found the investors for BYTEDANCE and their other investments:\n",
            "\n",
            "*   **Rong Yue** invested in BYTEDANCE and also in **Inspur**.\n",
            "*   **Wendi Murdoch** invested in BYTEDANCE. According to the database, there are no other investments listed for Wendi Murdoch. None None\n"
          ]
        },
        {
          "output_type": "execute_result",
          "data": {
            "text/plain": [
              "'Okay, I found the investors for BYTEDANCE and their other investments:\\n\\n*   **Rong Yue** invested in BYTEDANCE and also in **Inspur**.\\n*   **Wendi Murdoch** invested in BYTEDANCE. According to the database, there are no other investments listed for Wendi Murdoch.'"
            ],
            "application/vnd.google.colaboratory.intrinsic+json": {
              "type": "string"
            }
          },
          "metadata": {},
          "execution_count": 49
        }
      ]
    },
    {
      "cell_type": "code",
      "source": [
        "runner.session_service.list_sessions(app_name=APP_NAME, user_id=USER_ID)"
      ],
      "metadata": {
        "id": "jJE6qNni2qDH",
        "colab": {
          "base_uri": "https://localhost:8080/"
        },
        "outputId": "7ca31d7c-0faa-4153-82cb-53a641fbf06b"
      },
      "execution_count": 50,
      "outputs": [
        {
          "output_type": "execute_result",
          "data": {
            "text/plain": [
              "ListSessionsResponse(sessions=[Session(id='3375d095-3f4d-4725-97c6-9f7318c6574a', app_name='Neo4j Investment Researcher', user_id='Michael Hunger', state={}, events=[], last_update_time=1744237962.688923)])"
            ]
          },
          "metadata": {},
          "execution_count": 50
        }
      ]
    },
    {
      "cell_type": "code",
      "source": [
        "for session in runner.session_service.list_sessions(app_name=APP_NAME, user_id=USER_ID).sessions:\n",
        "  print(session.model_dump())"
      ],
      "metadata": {
        "id": "bsutZ5xe2TxK",
        "colab": {
          "base_uri": "https://localhost:8080/"
        },
        "outputId": "5cb66b09-9a28-4d36-b00a-0d8fd33044b1"
      },
      "execution_count": 51,
      "outputs": [
        {
          "output_type": "stream",
          "name": "stdout",
          "text": [
            "{'id': '3375d095-3f4d-4725-97c6-9f7318c6574a', 'app_name': 'Neo4j Investment Researcher', 'user_id': 'Michael Hunger', 'state': {}, 'events': [], 'last_update_time': 1744237962.688923}\n"
          ]
        }
      ]
    },
    {
      "cell_type": "code",
      "source": [
        "result = await run_prompt(\"Summarize the results of the previous research questions\")\n",
        "result"
      ],
      "metadata": {
        "id": "1LBAZrGX7cQa",
        "colab": {
          "base_uri": "https://localhost:8080/",
          "height": 198
        },
        "outputId": "2f58cc04-952a-4023-c818-737df992b8d9"
      },
      "execution_count": 52,
      "outputs": [
        {
          "output_type": "stream",
          "name": "stdout",
          "text": [
            "Okay, here's a summary of our findings so far:\n",
            "\n",
            "1.  We first determined that there are **8,064 people** represented in the database.\n",
            "2.  Next, we looked up the competitors for **YouTube** and found several, including Mixer, BYTEDANCE, BuzzFeed, TikTok, OpenAI, Dailymotion, Twitter, Fox Broadcasting, Violin Systems, and Oxygen.\n",
            "3.  Finally, we identified the investors in **BYTEDANCE** as **Rong Yue** and **Wendi Murdoch**. We also found that Rong Yue has invested in **Inspur**, while no other investments were listed for Wendi Murdoch in the database besides BYTEDANCE. None None\n"
          ]
        },
        {
          "output_type": "execute_result",
          "data": {
            "text/plain": [
              "\"Okay, here's a summary of our findings so far:\\n\\n1.  We first determined that there are **8,064 people** represented in the database.\\n2.  Next, we looked up the competitors for **YouTube** and found several, including Mixer, BYTEDANCE, BuzzFeed, TikTok, OpenAI, Dailymotion, Twitter, Fox Broadcasting, Violin Systems, and Oxygen.\\n3.  Finally, we identified the investors in **BYTEDANCE** as **Rong Yue** and **Wendi Murdoch**. We also found that Rong Yue has invested in **Inspur**, while no other investments were listed for Wendi Murdoch in the database besides BYTEDANCE.\""
            ],
            "application/vnd.google.colaboratory.intrinsic+json": {
              "type": "string"
            }
          },
          "metadata": {},
          "execution_count": 52
        }
      ]
    },
    {
      "cell_type": "code",
      "source": [
        "from IPython.display import Markdown, display\n",
        "\n",
        "\n",
        "display(Markdown(result))"
      ],
      "metadata": {
        "id": "K41yWpvwMY4w",
        "colab": {
          "base_uri": "https://localhost:8080/",
          "height": 155
        },
        "outputId": "031dfe53-d3f4-433f-e067-bbe0b30f8936"
      },
      "execution_count": 53,
      "outputs": [
        {
          "output_type": "display_data",
          "data": {
            "text/plain": [
              "<IPython.core.display.Markdown object>"
            ],
            "text/markdown": "Okay, here's a summary of our findings so far:\n\n1.  We first determined that there are **8,064 people** represented in the database.\n2.  Next, we looked up the competitors for **YouTube** and found several, including Mixer, BYTEDANCE, BuzzFeed, TikTok, OpenAI, Dailymotion, Twitter, Fox Broadcasting, Violin Systems, and Oxygen.\n3.  Finally, we identified the investors in **BYTEDANCE** as **Rong Yue** and **Wendi Murdoch**. We also found that Rong Yue has invested in **Inspur**, while no other investments were listed for Wendi Murdoch in the database besides BYTEDANCE."
          },
          "metadata": {}
        }
      ]
    },
    {
      "cell_type": "code",
      "source": [
        "for session in runner.session_service.list_sessions(app_name=APP_NAME, user_id=USER_ID).sessions:\n",
        "  print(f\"Deleting session {session}\")\n",
        "  runner.session_service.delete_session(app_name=APP_NAME, user_id=USER_ID, session_id=session.id)"
      ],
      "metadata": {
        "id": "2DWthTncLmtm",
        "colab": {
          "base_uri": "https://localhost:8080/"
        },
        "outputId": "e619ee13-cf4f-44c5-a273-a78905f05776"
      },
      "execution_count": 54,
      "outputs": [
        {
          "output_type": "stream",
          "name": "stdout",
          "text": [
            "Deleting session id='3375d095-3f4d-4725-97c6-9f7318c6574a' app_name='Neo4j Investment Researcher' user_id='Michael Hunger' state={} events=[] last_update_time=1744237973.959884\n"
          ]
        }
      ]
    }
  ]
}